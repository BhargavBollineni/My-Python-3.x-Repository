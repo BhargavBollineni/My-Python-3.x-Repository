{
 "cells": [
  {
   "cell_type": "code",
   "execution_count": 24,
   "metadata": {},
   "outputs": [
    {
     "name": "stdout",
     "output_type": "stream",
     "text": [
      "* * * * * * * * * * * * * * * * * * * * * * * * * * * * * * * * * * * * * * * * * * * * * * * * * * * * * * * * * * * *  *   * * *                                                                                                                * * * * * * * * * * * * * * * * * * * * * * * * * * * * * * * * * * * * * * * * * * * * * * * * * * * * * * * * * * * *  *   * * *                                                                                                                * * * * * * * * * * * * * * * * * * * * * * * * * * * * * * * * * * * * * * * * * * * * * * * * * * * * * * * * * * * *  *     * *                                                                                                                *     * *                                                                                                                "
     ]
    }
   ],
   "source": [
    "# letter\n",
    "for row in range(7):\n",
    "    for col in range(60):\n",
    "        if (col==0 or row==0 or col==4 or row==2 or row==4) or (col==0 or row==2 or col==3) or((row==0 and col==1)or(row==1 and col==0)or(row==1 and col==2)or(row==2 and col==0)or(row==2 and col==1)or(row==2 and col==2)or(row==3 and col==0)or(row==3 and col==2)or(row==4 and col==0)or(row==4 and col==2))or(col==0 or row==2 or col==3 or row==0)or(row==0 or col==0 or row==4 or row==2 or row==3 and col==3)or((row==0 and col==1)or(row==1 and col==0)or(row==1 and col==2)or(row==2 and col==0)or(row==2 and col==1)or(row==2 and col==2)or(row==3 and col==0)or(row==3 and col==2)or(row==4 and col==0)or(row==4 and col==2))or((row==0 and col==0) or (row==0 and col==4) or (row==1 and col==0)or (row==1 and col==4)or(row==2 and col==1)or (row==2 and col==3)or (row==3 and col==2)):\n",
    "            print('*',end=' ')\n",
    "        else:\n",
    "            print(' ',end=' ')\n",
    "        #print(' ')\n",
    "    print(end=' ')"
   ]
  },
  {
   "cell_type": "code",
   "execution_count": null,
   "metadata": {},
   "outputs": [],
   "source": []
  },
  {
   "cell_type": "code",
   "execution_count": null,
   "metadata": {},
   "outputs": [],
   "source": []
  },
  {
   "cell_type": "code",
   "execution_count": 64,
   "metadata": {},
   "outputs": [
    {
     "name": "stdout",
     "output_type": "stream",
     "text": [
      "* * *     *   \n",
      "*   *   *   * \n",
      "* *     * * * \n",
      "*   *   *   * \n",
      "* * *   *   * \n"
     ]
    }
   ],
   "source": [
    "for row in range(5):\n",
    "    for col in range(7):\n",
    "        if (col==0 or row==0 and col==1 or row==0 and col==2 or row==2 and col==1 or row==1 and col==2 or row==3 and col==2 or row==4 and col==2 or row==4 and col==1) or (row==0 and col==5 or row==1 and col==4 or row==1 and col==6 or row==2 and col==4 or row==2 and col==5 or row==2 and col==6 or row==3 and col==4 or row==3 and col==6 or row==4 and col==6 or row==4 and col==4):\n",
    "            print('*',end=\" \")\n",
    "        else:\n",
    "            print(' ',end=' ')\n",
    "    print()"
   ]
  },
  {
   "cell_type": "code",
   "execution_count": 65,
   "metadata": {},
   "outputs": [],
   "source": [
    "# circle"
   ]
  },
  {
   "cell_type": "code",
   "execution_count": 2,
   "metadata": {},
   "outputs": [
    {
     "name": "stdout",
     "output_type": "stream",
     "text": [
      "  @ @     \n",
      "@     @   \n",
      "@     @   \n",
      "@     @   \n",
      "  @ @     \n",
      "          \n"
     ]
    }
   ],
   "source": [
    "for row in range(6):\n",
    "    for col in range(5):\n",
    "        if (row==0 and col==1 or row==0 and col==2 or row==1 and col==3 or row==1 and col==0 or row==2 and col==0 or row==2 and col==3 or row==3 and col==3 or row==3 and col==0 or row==4 and col==1 or row==4 and col==2):\n",
    "            print(\"@\",end=\" \")\n",
    "        else:\n",
    "            print(\" \",end=' ')\n",
    "    print()\n",
    "                "
   ]
  },
  {
   "cell_type": "code",
   "execution_count": 81,
   "metadata": {},
   "outputs": [],
   "source": [
    "# no 9"
   ]
  },
  {
   "cell_type": "code",
   "execution_count": 153,
   "metadata": {},
   "outputs": [
    {
     "name": "stdout",
     "output_type": "stream",
     "text": [
      "  9 9 9 9 \n",
      "9       9 \n",
      "9       9 \n",
      "9 9 9 9 9 \n",
      "        9 \n",
      "        9 \n",
      "        9 \n",
      "9 9 9 9 9 \n"
     ]
    }
   ],
   "source": [
    "for row in range(8):\n",
    "    for col in range(5):\n",
    "        if(row==0 and col==3 or col>=4 or row==0 and col==2 or row==0 and col==1 or row==1 and col==0 or row==2 and col==0 or row==3 and col==0 or row==3 or row>6): \n",
    "             print(\"9\",end=\" \")\n",
    "        else:\n",
    "             print(\" \",end=' ')\n",
    "    print()"
   ]
  },
  {
   "cell_type": "code",
   "execution_count": 13,
   "metadata": {},
   "outputs": [
    {
     "name": "stdout",
     "output_type": "stream",
     "text": [
      "* * * * 9 \n",
      "* * * 9 * \n",
      "* * 9 * * \n",
      "* 9 * * * \n",
      "9 * * * * \n",
      "* * * * * \n"
     ]
    }
   ],
   "source": [
    "for row in range(6):\n",
    "    for col in range(5):\n",
    "        if (row+col==4):\n",
    "             print(\"9\",end=\" \")\n",
    "        else:\n",
    "             print(\"*\",end=' ')\n",
    "    print()"
   ]
  },
  {
   "cell_type": "code",
   "execution_count": 3,
   "metadata": {},
   "outputs": [
    {
     "name": "stdout",
     "output_type": "stream",
     "text": [
      "* * * * * \n",
      "* * * * 9 \n",
      "* * * 9 * \n",
      "* * 9 * * \n",
      "* 9 * * * \n",
      "9 * * * * \n"
     ]
    }
   ],
   "source": [
    "for row in range(6):\n",
    "    for col in range(5):\n",
    "        if (row+col==5):\n",
    "             print(\"9\",end=\" \")\n",
    "        else:\n",
    "             print(\"*\",end=' ')\n",
    "    print()"
   ]
  },
  {
   "cell_type": "code",
   "execution_count": 30,
   "metadata": {},
   "outputs": [
    {
     "name": "stdout",
     "output_type": "stream",
     "text": [
      "9 9 9 9 9 \n",
      "9       9 \n",
      "9       9 \n",
      "9 9 9 9 9 \n",
      "        9 \n",
      "        9 \n",
      "        9 \n"
     ]
    }
   ],
   "source": [
    "for row in range(7):\n",
    "    for col in range(5):\n",
    "        if (row==0 or col==4)or(row==3)or(col==0 and row==1) or  col==0 and row==2:\n",
    "             print(\"9\",end=\" \")\n",
    "        else:\n",
    "             print(\" \",end=' ')\n",
    "    print()"
   ]
  },
  {
   "cell_type": "code",
   "execution_count": 14,
   "metadata": {},
   "outputs": [
    {
     "name": "stdout",
     "output_type": "stream",
     "text": [
      "\n",
      "1 \n",
      "2 2 \n",
      "3 3 3 \n",
      "4 4 4 4 \n",
      "5 5 5 5 5 \n"
     ]
    }
   ],
   "source": [
    "for row in range(6):\n",
    "    for col in range(row):\n",
    "        print(row,end=\" \")\n",
    "    print()"
   ]
  },
  {
   "cell_type": "code",
   "execution_count": 59,
   "metadata": {},
   "outputs": [
    {
     "ename": "SyntaxError",
     "evalue": "unexpected character after line continuation character (<ipython-input-59-0097656b0373>, line 4)",
     "output_type": "error",
     "traceback": [
      "\u001b[1;36m  File \u001b[1;32m\"<ipython-input-59-0097656b0373>\"\u001b[1;36m, line \u001b[1;32m4\u001b[0m\n\u001b[1;33m    print(\\n)\u001b[0m\n\u001b[1;37m             ^\u001b[0m\n\u001b[1;31mSyntaxError\u001b[0m\u001b[1;31m:\u001b[0m unexpected character after line continuation character\n"
     ]
    }
   ],
   "source": [
    "for row in range(6):\n",
    "    for col in range(row):\n",
    "        print(row,end=\" \")\n",
    "    print(\\n)\n",
    "    "
   ]
  },
  {
   "cell_type": "code",
   "execution_count": 27,
   "metadata": {},
   "outputs": [
    {
     "name": "stdout",
     "output_type": "stream",
     "text": [
      "\u000b",
      " \u000b",
      " \u000b",
      " \u000b",
      " \u000b",
      " \u000b",
      " \u000b",
      " \u000b",
      " \u000b",
      " \u000b",
      " \u000b",
      " \u000b",
      " \u000b",
      " \u000b",
      " \u000b",
      " \u000b",
      " \u000b",
      " \u000b",
      " \u000b",
      " \u000b",
      " \u000b",
      " \u000b",
      " \u000b",
      " \n",
      "\u000b",
      " \u000b",
      " \u000b",
      " \u000b",
      " \u000b",
      " \u000b",
      " \u000b",
      " \u000b",
      " \u000b",
      " \u000b",
      " \u000b",
      " \u000b",
      " \u000b",
      " \u000b",
      " \u000b",
      " \u000b",
      " \u000b",
      " \u000b",
      " \u000b",
      " \u000b",
      " \u000b",
      " \u000b",
      " \u000b",
      " \n",
      "\u000b",
      " \u000b",
      " \u000b",
      " \u000b",
      " \u000b",
      " \u000b",
      " \u000b",
      " \u000b",
      " \u000b",
      " \u000b",
      " \u000b",
      " \u000b",
      " \u000b",
      " \u000b",
      " \u000b",
      " \u000b",
      " \u000b",
      " \u000b",
      " \u000b",
      " \u000b",
      " \u000b",
      " \u000b",
      " \u000b",
      " \n",
      "\u000b",
      " \u000b",
      " \u000b",
      " \u000b",
      " \u000b",
      " \u000b",
      " \u000b",
      " \u000b",
      " \u000b",
      " \u000b",
      " \u000b",
      " \u000b",
      " \u000b",
      " \u000b",
      " \u000b",
      " \u000b",
      " \u000b",
      " \u000b",
      " \u000b",
      " \u000b",
      " \u000b",
      " \u000b",
      " \u000b",
      " \n",
      "\u000b",
      " \u000b",
      " \u000b",
      " \u000b",
      " \u000b",
      " \u000b",
      " \u000b",
      " \u000b",
      " \u000b",
      " \u000b",
      " \u000b",
      " \u000b",
      " \u000b",
      " \u000b",
      " \u000b",
      " \u000b",
      " \u000b",
      " \u000b",
      " \u000b",
      " \u000b",
      " \u000b",
      " \u000b",
      " \u000b",
      " \n",
      "\u000b",
      " \u000b",
      " \u000b",
      " \u000b",
      " \u000b",
      " \u000b",
      " \u000b",
      " \u000b",
      " \u000b",
      " \u000b",
      " \u000b",
      " \u000b",
      " \u000b",
      " \u000b",
      " \u000b",
      " \u000b",
      " \u000b",
      " \u000b",
      " \u000b",
      " \u000b",
      " \u000b",
      " \u000b",
      " \u000b",
      " \n",
      "\u000b",
      " \u000b",
      " \u000b",
      " \u000b",
      " \u000b",
      " \u000b",
      " \u000b",
      " \u000b",
      " \u000b",
      " \u000b",
      " \u000b",
      " \u000b",
      " \u000b",
      " \u000b",
      " \u000b",
      " \u000b",
      " \u000b",
      " \u000b",
      " \u000b",
      " \u000b",
      " \u000b",
      " \u000b",
      " \u000b",
      " \n",
      "\u000b",
      " \u000b",
      " \u000b",
      " \u000b",
      " \u000b",
      " \u000b",
      " \u000b",
      " \u000b",
      " \u000b",
      " \u000b",
      " \u000b",
      " \u000b",
      " \u000b",
      " \u000b",
      " \u000b",
      " \u000b",
      " \u000b",
      " \u000b",
      " \u000b",
      " \u000b",
      " \u000b",
      " \u000b",
      " \u000b",
      " \n",
      "\u000b",
      " \u000b",
      " \u000b",
      " \u000b",
      " \u000b",
      " \u000b",
      " \u000b",
      " \u000b",
      " \u000b",
      " \u000b",
      " \u000b",
      " \u000b",
      " \u000b",
      " \u000b",
      " \u000b",
      " \u000b",
      " \u000b",
      " \u000b",
      " \u000b",
      " \u000b",
      " \u000b",
      " \u000b",
      " \u000b",
      " \n",
      "\u000b",
      " \u000b",
      " \u000b",
      " \u000b",
      " \u000b",
      " \u000b",
      " \u000b",
      " \u000b",
      " \u000b",
      " \u000b",
      " \u000b",
      " \u000b",
      " \u000b",
      " \u000b",
      " \u000b",
      " \u000b",
      " \u000b",
      " \u000b",
      " \u000b",
      " \u000b",
      " \u000b",
      " \u000b",
      " \u000b",
      " \n",
      "\u000b",
      " \u000b",
      " \u000b",
      " \u000b",
      " \u000b",
      " \u000b",
      " \u000b",
      " \u000b",
      " \u000b",
      " \u000b",
      " \u000b",
      " \u000b",
      " \u000b",
      " \u000b",
      " \u000b",
      " \u000b",
      " \u000b",
      " \u000b",
      " \u000b",
      " \u000b",
      " \u000b",
      " \u000b",
      " \u000b",
      " \n",
      "\u000b",
      " \u000b",
      " \u000b",
      " \u000b",
      " \u000b",
      " \u000b",
      " \u000b",
      " \u000b",
      " \u000b",
      " \u000b",
      " \u000b",
      " \u000b",
      " \u000b",
      " \u000b",
      " \u000b",
      " \u000b",
      " \u000b",
      " \u000b",
      " \u000b",
      " \u000b",
      " \u000b",
      " \u000b",
      " \u000b",
      " \n",
      "\u000b",
      " \u000b",
      " \u000b",
      " \u000b",
      " \u000b",
      " \u000b",
      " \u000b",
      " \u000b",
      " \u000b",
      " \u000b",
      " \u000b",
      " \u000b",
      " \u000b",
      " \u000b",
      " \u000b",
      " \u000b",
      " \u000b",
      " \u000b",
      " \u000b",
      " \u000b",
      " \u000b",
      " \u000b",
      " \u000b",
      " \n",
      "\u000b",
      " \u000b",
      " \u000b",
      " \u000b",
      " \u000b",
      " \u000b",
      " \u000b",
      " \u000b",
      " \u000b",
      " \u000b",
      " \u000b",
      " \u000b",
      " \u000b",
      " \u000b",
      " \u000b",
      " \u000b",
      " \u000b",
      " \u000b",
      " \u000b",
      " \u000b",
      " \u000b",
      " \u000b",
      " \u000b",
      " \n",
      "\u000b",
      " \u000b",
      " \u000b",
      " \u000b",
      " \u000b",
      " \u000b",
      " \u000b",
      " \u000b",
      " \u000b",
      " \u000b",
      " \u000b",
      " \u000b",
      " \u000b",
      " \u000b",
      " \u000b",
      " \u000b",
      " \u000b",
      " \u000b",
      " \u000b",
      " \u000b",
      " \u000b",
      " \u000b",
      " \u000b",
      " \n",
      "\u000b",
      " \u000b",
      " \u000b",
      " \u000b",
      " \u000b",
      " \u000b",
      " \u000b",
      " \u000b",
      " \u000b",
      " \u000b",
      " \u000b",
      " \u000b",
      " \u000b",
      " \u000b",
      " \u000b",
      " \u000b",
      " \u000b",
      " \u000b",
      " \u000b",
      " \u000b",
      " \u000b",
      " \u000b",
      " \u000b",
      " \n",
      "\u000b",
      " \u000b",
      " \u000b",
      " \u000b",
      " \u000b",
      " \u000b",
      " \u000b",
      " \u000b",
      " \u000b",
      " \u000b",
      " \u000b",
      " \u000b",
      " \u000b",
      " \u000b",
      " \u000b",
      " \u000b",
      " \u000b",
      " \u000b",
      " \u000b",
      " \u000b",
      " \u000b",
      " \u000b",
      " \u000b",
      " \n",
      "\u000b",
      " \u000b",
      " \u000b",
      " \u000b",
      " \u000b",
      " \u000b",
      " \u000b",
      " \u000b",
      " \u000b",
      " \u000b",
      " \u000b",
      " \u000b",
      " \u000b",
      " \u000b",
      " \u000b",
      " \u000b",
      " \u000b",
      " \u000b",
      " \u000b",
      " \u000b",
      " \u000b",
      " \u000b",
      " \u000b",
      " \n",
      "\u000b",
      " \u000b",
      " \u000b",
      " \u000b",
      " \u000b",
      " \u000b",
      " \u000b",
      " \u000b",
      " \u000b",
      " \u000b",
      " \u000b",
      " \u000b",
      " \u000b",
      " \u000b",
      " \u000b",
      " \u000b",
      " \u000b",
      " \u000b",
      " \u000b",
      " \u000b",
      " \u000b",
      " \u000b",
      " \u000b",
      " \n",
      "\u000b",
      " \u000b",
      " \u000b",
      " \u000b",
      " \u000b",
      " \u000b",
      " \u000b",
      " \u000b",
      " \u000b",
      " \u000b",
      " \u000b",
      " \u000b",
      " \u000b",
      " \u000b",
      " \u000b",
      " \u000b",
      " \u000b",
      " \u000b",
      " \u000b",
      " \u000b",
      " \u000b",
      " \u000b",
      " \u000b",
      " \n",
      "\u000b",
      " \u000b",
      " \u000b",
      " \u000b",
      " \u000b",
      " \u000b",
      " \u000b",
      " \u000b",
      " \u000b",
      " \u000b",
      " \u000b",
      " \u000b",
      " \u000b",
      " \u000b",
      " \u000b",
      " \u000b",
      " \u000b",
      " \u000b",
      " \u000b",
      " \u000b",
      " \u000b",
      " \u000b",
      " \u000b",
      " \n",
      "\u000b",
      " \u000b",
      " \u000b",
      " \u000b",
      " \u000b",
      " \u000b",
      " \u000b",
      " \u000b",
      " \u000b",
      " \u000b",
      " \u000b",
      " \u000b",
      " \u000b",
      " \u000b",
      " \u000b",
      " \u000b",
      " \u000b",
      " \u000b",
      " \u000b",
      " \u000b",
      " \u000b",
      " \u000b",
      " \u000b",
      " \n",
      "\u000b",
      " \u000b",
      " \u000b",
      " \u000b",
      " \u000b",
      " \u000b",
      " \u000b",
      " \u000b",
      " \u000b",
      " \u000b",
      " \u000b",
      " \u000b",
      " \u000b",
      " \u000b",
      " \u000b",
      " \u000b",
      " \u000b",
      " \u000b",
      " \u000b",
      " \u000b",
      " \u000b",
      " \u000b",
      " \u000b",
      " \n"
     ]
    }
   ],
   "source": [
    "for row in range(97,120):\n",
    "    for col in range(97,120):\n",
    "        print(chr(i),end=\" \")\n",
    "    print()"
   ]
  },
  {
   "cell_type": "code",
   "execution_count": 35,
   "metadata": {},
   "outputs": [
    {
     "ename": "SyntaxError",
     "evalue": "invalid syntax (<ipython-input-35-a5a354448cbe>, line 2)",
     "output_type": "error",
     "traceback": [
      "\u001b[1;36m  File \u001b[1;32m\"<ipython-input-35-a5a354448cbe>\"\u001b[1;36m, line \u001b[1;32m2\u001b[0m\n\u001b[1;33m    for i range (0, 5):\u001b[0m\n\u001b[1;37m              ^\u001b[0m\n\u001b[1;31mSyntaxError\u001b[0m\u001b[1;31m:\u001b[0m invalid syntax\n"
     ]
    }
   ],
   "source": [
    "val = 97\n",
    "for i range(0, 5):\n",
    "    for j in range(0,i+1):\n",
    "        ch= char(val)\n",
    "        print(ch,end=\" \")\n",
    "        val+=1\n",
    "    print()\n",
    "    "
   ]
  },
  {
   "cell_type": "code",
   "execution_count": null,
   "metadata": {},
   "outputs": [],
   "source": []
  },
  {
   "cell_type": "code",
   "execution_count": null,
   "metadata": {},
   "outputs": [],
   "source": [
    "i=1\n",
    "while i<6:\n",
    "    print(i)\n",
    "    i+=1\n",
    "else:\n",
    "    print(\"exit from the loop\")"
   ]
  },
  {
   "cell_type": "code",
   "execution_count": null,
   "metadata": {},
   "outputs": [],
   "source": []
  },
  {
   "cell_type": "code",
   "execution_count": null,
   "metadata": {},
   "outputs": [],
   "source": [
    "i=1\n",
    "while i<6:\n",
    "    print(i)\n",
    "    if i==3:\n",
    "        break\n",
    "    i+=1"
   ]
  },
  {
   "cell_type": "code",
   "execution_count": null,
   "metadata": {},
   "outputs": [],
   "source": [
    "i=1\n",
    "while i>0:\n",
    "    print(i)\n",
    "    i+=1\n",
    "    break"
   ]
  },
  {
   "cell_type": "code",
   "execution_count": null,
   "metadata": {},
   "outputs": [],
   "source": []
  },
  {
   "cell_type": "code",
   "execution_count": null,
   "metadata": {},
   "outputs": [],
   "source": []
  },
  {
   "cell_type": "code",
   "execution_count": null,
   "metadata": {},
   "outputs": [],
   "source": []
  },
  {
   "cell_type": "code",
   "execution_count": 61,
   "metadata": {},
   "outputs": [
    {
     "name": "stdout",
     "output_type": "stream",
     "text": [
      "a                 \n",
      "a b               \n",
      "a b c             \n"
     ]
    }
   ],
   "source": [
    "for row in range(3):\n",
    "    for col in range(3):\n",
    "        if (col==0):\n",
    "            print(\"a\",end=\" \")\n",
    "        else:\n",
    "            print(\" \",end=\" \")\n",
    "        if (row==1 and col==0)or (row==2 and col==0):\n",
    "            print('b',end=\" \")\n",
    "        else:\n",
    "            print(\" \",end=\" \")\n",
    "        if (row==2 and col==0):\n",
    "            print('c',end=\" \")\n",
    "        else:\n",
    "            print(\" \",end=\" \")\n",
    "    print()"
   ]
  },
  {
   "cell_type": "code",
   "execution_count": null,
   "metadata": {},
   "outputs": [],
   "source": []
  },
  {
   "cell_type": "code",
   "execution_count": 4,
   "metadata": {},
   "outputs": [
    {
     "name": "stdin",
     "output_type": "stream",
     "text": [
      "enter the value: 2\n"
     ]
    },
    {
     "name": "stdout",
     "output_type": "stream",
     "text": [
      "4\n",
      "5\n",
      "6\n"
     ]
    }
   ],
   "source": [
    "i= int(input(\"enter the value:\"))\n",
    "while i<6:\n",
    "    i+=1\n",
    "    if i==3:\n",
    "        continue\n",
    "    print(i)"
   ]
  },
  {
   "cell_type": "code",
   "execution_count": null,
   "metadata": {},
   "outputs": [],
   "source": []
  },
  {
   "cell_type": "code",
   "execution_count": 62,
   "metadata": {},
   "outputs": [
    {
     "name": "stdout",
     "output_type": "stream",
     "text": [
      "a . . . . . . . . \n",
      "a b . . . . . . . \n",
      "a b c . . . . . . \n"
     ]
    }
   ],
   "source": [
    "for row in range(3):\n",
    "    for col in range(3):\n",
    "        if (col==0):\n",
    "            print(\"a\",end=\" \")\n",
    "        else:\n",
    "            print(\".\",end=\" \")\n",
    "        if (row==1 and col==0)or (row==2 and col==0):\n",
    "            print('b',end=\" \")\n",
    "        else:\n",
    "            print(\".\",end=\" \")\n",
    "        if (row==2 and col==0):\n",
    "            print('c',end=\" \")\n",
    "        else:\n",
    "            print(\".\",end=\" \")\n",
    "    print()"
   ]
  },
  {
   "cell_type": "code",
   "execution_count": 63,
   "metadata": {},
   "outputs": [
    {
     "name": "stdout",
     "output_type": "stream",
     "text": [
      "10\n",
      "0\n"
     ]
    }
   ],
   "source": [
    "i=10\n",
    "while i<11:\n",
    "    print(i)\n",
    "    i+=1\n",
    "else:\n",
    "    i-=11\n",
    "    print(i)"
   ]
  },
  {
   "cell_type": "code",
   "execution_count": null,
   "metadata": {},
   "outputs": [],
   "source": []
  },
  {
   "cell_type": "code",
   "execution_count": 64,
   "metadata": {},
   "outputs": [
    {
     "name": "stdout",
     "output_type": "stream",
     "text": [
      "0\n",
      "1\n",
      "2\n",
      "3\n",
      "4\n",
      "5\n"
     ]
    }
   ],
   "source": [
    "while i<6:\n",
    "    print(i)\n",
    "    i+=1"
   ]
  },
  {
   "cell_type": "code",
   "execution_count": null,
   "metadata": {},
   "outputs": [],
   "source": []
  },
  {
   "cell_type": "code",
   "execution_count": null,
   "metadata": {},
   "outputs": [],
   "source": [
    "i=1\n",
    "while i<6:\n",
    "    print(i)\n",
    "    i+=1\n",
    "else:\n",
    "    print(\"exit from loop\")"
   ]
  },
  {
   "cell_type": "code",
   "execution_count": null,
   "metadata": {},
   "outputs": [],
   "source": []
  },
  {
   "cell_type": "code",
   "execution_count": null,
   "metadata": {},
   "outputs": [],
   "source": [
    "#continue\n",
    "i=0\n",
    "while i < 6:\n",
    "    i += 1\n",
    "    if i == 3:\n",
    "        continue\n",
    "    print(i)"
   ]
  },
  {
   "cell_type": "code",
   "execution_count": null,
   "metadata": {},
   "outputs": [],
   "source": []
  },
  {
   "cell_type": "code",
   "execution_count": 13,
   "metadata": {},
   "outputs": [
    {
     "name": "stdout",
     "output_type": "stream",
     "text": [
      "*\n",
      "**\n",
      "***\n",
      "****\n",
      "*****\n"
     ]
    }
   ],
   "source": [
    "i=1\n",
    "while i<6:\n",
    "    print(\"*\"*i)\n",
    "    i=i+1"
   ]
  },
  {
   "cell_type": "code",
   "execution_count": null,
   "metadata": {},
   "outputs": [],
   "source": []
  },
  {
   "cell_type": "code",
   "execution_count": 3,
   "metadata": {},
   "outputs": [
    {
     "name": "stdout",
     "output_type": "stream",
     "text": [
      "*\n",
      "**\n",
      "***\n",
      "****\n",
      "*****\n",
      "  \n"
     ]
    }
   ],
   "source": [
    "i=1\n",
    "while i<6:\n",
    "    print(\"*\"*i)\n",
    "    i=i+1\n",
    "else:\n",
    "    print(\" \",end=\" \")\n",
    "print()"
   ]
  },
  {
   "cell_type": "code",
   "execution_count": 14,
   "metadata": {},
   "outputs": [
    {
     "name": "stdout",
     "output_type": "stream",
     "text": [
      "sum is 55\n"
     ]
    }
   ],
   "source": [
    "n=10\n",
    "sum=0\n",
    "i=1\n",
    "while i<=n:\n",
    "    sum=sum+i\n",
    "    i=i+1\n",
    "print(\"sum is\",sum)"
   ]
  },
  {
   "cell_type": "code",
   "execution_count": 17,
   "metadata": {},
   "outputs": [
    {
     "name": "stdout",
     "output_type": "stream",
     "text": [
      "inside the body of while\n",
      "inside the body of while\n",
      "inside the body of while\n",
      "ouside\n"
     ]
    }
   ],
   "source": [
    "c=0\n",
    "while c<3:\n",
    "    print(\"inside the body of while\")\n",
    "    c=c+1\n",
    "else:\n",
    "    c-=1\n",
    "    print(\"ouside\")"
   ]
  },
  {
   "cell_type": "raw",
   "metadata": {},
   "source": []
  },
  {
   "cell_type": "code",
   "execution_count": null,
   "metadata": {},
   "outputs": [],
   "source": []
  },
  {
   "cell_type": "code",
   "execution_count": 18,
   "metadata": {},
   "outputs": [],
   "source": [
    "#functions"
   ]
  },
  {
   "cell_type": "code",
   "execution_count": 21,
   "metadata": {},
   "outputs": [],
   "source": [
    "def cal(a,b):\n",
    "    print(\"add of two values\",a+b)\n",
    "    print(\"sub of two values\",a-b)\n",
    "    print(\"add of two values\",a*b)\n",
    "    print(\"add of two values\",a/b)\n",
    "    print(\"add of two values\",a//b)\n",
    "    print(\"add of two values\",a%b)\n",
    "    "
   ]
  },
  {
   "cell_type": "code",
   "execution_count": 22,
   "metadata": {},
   "outputs": [
    {
     "name": "stdout",
     "output_type": "stream",
     "text": [
      "add of two values 30\n",
      "sub of two values -10\n",
      "add of two values 200\n",
      "add of two values 0.5\n",
      "add of two values 0\n",
      "add of two values 10\n"
     ]
    }
   ],
   "source": [
    "cal(10,20)"
   ]
  },
  {
   "cell_type": "code",
   "execution_count": null,
   "metadata": {},
   "outputs": [],
   "source": []
  },
  {
   "cell_type": "code",
   "execution_count": 1,
   "metadata": {},
   "outputs": [],
   "source": [
    "def even_odd(a):\n",
    "    if a%2==0:\n",
    "        print(\"even\",a)\n",
    "        "
   ]
  },
  {
   "cell_type": "code",
   "execution_count": null,
   "metadata": {},
   "outputs": [],
   "source": []
  },
  {
   "cell_type": "code",
   "execution_count": 2,
   "metadata": {},
   "outputs": [],
   "source": [
    "def add(a,b):\n",
    "    pass"
   ]
  },
  {
   "cell_type": "code",
   "execution_count": 3,
   "metadata": {},
   "outputs": [],
   "source": [
    "add(10,20)"
   ]
  },
  {
   "cell_type": "code",
   "execution_count": 4,
   "metadata": {},
   "outputs": [
    {
     "ename": "NameError",
     "evalue": "name 'a' is not defined",
     "output_type": "error",
     "traceback": [
      "\u001b[1;31m---------------------------------------------------------------------------\u001b[0m",
      "\u001b[1;31mNameError\u001b[0m                                 Traceback (most recent call last)",
      "\u001b[1;32m<ipython-input-4-3f786850e387>\u001b[0m in \u001b[0;36m<module>\u001b[1;34m\u001b[0m\n\u001b[1;32m----> 1\u001b[1;33m \u001b[0ma\u001b[0m\u001b[1;33m\u001b[0m\u001b[1;33m\u001b[0m\u001b[0m\n\u001b[0m",
      "\u001b[1;31mNameError\u001b[0m: name 'a' is not defined"
     ]
    }
   ],
   "source": [
    "a"
   ]
  },
  {
   "cell_type": "code",
   "execution_count": 5,
   "metadata": {},
   "outputs": [
    {
     "data": {
      "text/plain": [
       "50"
      ]
     },
     "execution_count": 5,
     "metadata": {},
     "output_type": "execute_result"
    }
   ],
   "source": [
    "def add(a,b):\n",
    "    c=a+b\n",
    "    return c\n",
    "add(20,30)"
   ]
  },
  {
   "cell_type": "code",
   "execution_count": 6,
   "metadata": {},
   "outputs": [
    {
     "ename": "SyntaxError",
     "evalue": "'return' outside function (<ipython-input-6-f182766a1aae>, line 1)",
     "output_type": "error",
     "traceback": [
      "\u001b[1;36m  File \u001b[1;32m\"<ipython-input-6-f182766a1aae>\"\u001b[1;36m, line \u001b[1;32m1\u001b[0m\n\u001b[1;33m    return c\u001b[0m\n\u001b[1;37m            ^\u001b[0m\n\u001b[1;31mSyntaxError\u001b[0m\u001b[1;31m:\u001b[0m 'return' outside function\n"
     ]
    }
   ],
   "source": [
    "return c"
   ]
  },
  {
   "cell_type": "code",
   "execution_count": 7,
   "metadata": {},
   "outputs": [],
   "source": [
    "def add(a):\n",
    "    \"\"\"add of two numbers\"\"\"\n",
    "    b=a+1\n",
    "    print(a,\"if u add one\",b)\n",
    "    return(b)"
   ]
  },
  {
   "cell_type": "code",
   "execution_count": 9,
   "metadata": {},
   "outputs": [
    {
     "ename": "NameError",
     "evalue": "name 'a' is not defined",
     "output_type": "error",
     "traceback": [
      "\u001b[1;31m---------------------------------------------------------------------------\u001b[0m",
      "\u001b[1;31mNameError\u001b[0m                                 Traceback (most recent call last)",
      "\u001b[1;32m<ipython-input-9-2102cf64c534>\u001b[0m in \u001b[0;36m<module>\u001b[1;34m\u001b[0m\n\u001b[1;32m----> 1\u001b[1;33m \u001b[0ma\u001b[0m\u001b[1;33m.\u001b[0m\u001b[0m__doc__\u001b[0m\u001b[1;33m\u001b[0m\u001b[1;33m\u001b[0m\u001b[0m\n\u001b[0m",
      "\u001b[1;31mNameError\u001b[0m: name 'a' is not defined"
     ]
    }
   ],
   "source": [
    "a.__doc__"
   ]
  },
  {
   "cell_type": "code",
   "execution_count": null,
   "metadata": {},
   "outputs": [],
   "source": []
  },
  {
   "cell_type": "code",
   "execution_count": 1,
   "metadata": {},
   "outputs": [],
   "source": [
    "def mult(a,b):\n",
    "    c=a*b\n",
    "    return c"
   ]
  },
  {
   "cell_type": "code",
   "execution_count": 11,
   "metadata": {},
   "outputs": [
    {
     "data": {
      "text/plain": [
       "600"
      ]
     },
     "execution_count": 11,
     "metadata": {},
     "output_type": "execute_result"
    }
   ],
   "source": [
    "mult(20,30)"
   ]
  },
  {
   "cell_type": "code",
   "execution_count": 3,
   "metadata": {},
   "outputs": [],
   "source": [
    "def mult(a,b):\n",
    "    c=a*b\n"
   ]
  },
  {
   "cell_type": "code",
   "execution_count": null,
   "metadata": {},
   "outputs": [],
   "source": []
  },
  {
   "cell_type": "code",
   "execution_count": 12,
   "metadata": {},
   "outputs": [
    {
     "data": {
      "text/plain": [
       "5.1529"
      ]
     },
     "execution_count": 12,
     "metadata": {},
     "output_type": "execute_result"
    }
   ],
   "source": [
    "mult(2.27,2.27)"
   ]
  },
  {
   "cell_type": "code",
   "execution_count": 13,
   "metadata": {},
   "outputs": [
    {
     "data": {
      "text/plain": [
       "'bhargavbhargav'"
      ]
     },
     "execution_count": 13,
     "metadata": {},
     "output_type": "execute_result"
    }
   ],
   "source": [
    "mult(2,\"bhargav\")"
   ]
  },
  {
   "cell_type": "code",
   "execution_count": 17,
   "metadata": {},
   "outputs": [
    {
     "ename": "NameError",
     "evalue": "name 'true' is not defined",
     "output_type": "error",
     "traceback": [
      "\u001b[1;31m---------------------------------------------------------------------------\u001b[0m",
      "\u001b[1;31mNameError\u001b[0m                                 Traceback (most recent call last)",
      "\u001b[1;32m<ipython-input-17-880e4c598034>\u001b[0m in \u001b[0;36m<module>\u001b[1;34m\u001b[0m\n\u001b[1;32m----> 1\u001b[1;33m \u001b[0mmult\u001b[0m\u001b[1;33m(\u001b[0m\u001b[0mtrue\u001b[0m\u001b[1;33m)\u001b[0m\u001b[1;33m\u001b[0m\u001b[1;33m\u001b[0m\u001b[0m\n\u001b[0m",
      "\u001b[1;31mNameError\u001b[0m: name 'true' is not defined"
     ]
    }
   ],
   "source": [
    "mult(true)"
   ]
  },
  {
   "cell_type": "code",
   "execution_count": 22,
   "metadata": {},
   "outputs": [],
   "source": [
    "def bool1(a,b):\n",
    "    c=(a>b)\n",
    "    return c"
   ]
  },
  {
   "cell_type": "code",
   "execution_count": 23,
   "metadata": {},
   "outputs": [
    {
     "data": {
      "text/plain": [
       "False"
      ]
     },
     "execution_count": 23,
     "metadata": {},
     "output_type": "execute_result"
    }
   ],
   "source": [
    "bool1(10,20)"
   ]
  },
  {
   "cell_type": "code",
   "execution_count": 25,
   "metadata": {},
   "outputs": [
    {
     "data": {
      "text/plain": [
       "True"
      ]
     },
     "execution_count": 25,
     "metadata": {},
     "output_type": "execute_result"
    }
   ],
   "source": [
    "bool1(20,10)"
   ]
  },
  {
   "cell_type": "code",
   "execution_count": null,
   "metadata": {},
   "outputs": [],
   "source": []
  },
  {
   "cell_type": "code",
   "execution_count": 33,
   "metadata": {},
   "outputs": [
    {
     "name": "stdout",
     "output_type": "stream",
     "text": [
      "2 if you square +10 5\n"
     ]
    },
    {
     "data": {
      "text/plain": [
       "5"
      ]
     },
     "execution_count": 33,
     "metadata": {},
     "output_type": "execute_result"
    }
   ],
   "source": [
    "def square(a):\n",
    "    \"\"\"square of the input\"\"\"\n",
    "    b=1\n",
    "    c=a*a+b\n",
    "    \n",
    "    print(a,'if you square +10',c)\n",
    "\n",
    "    return c\n",
    "x=2\n",
    "y=square(x)\n",
    "y"
   ]
  },
  {
   "cell_type": "code",
   "execution_count": 31,
   "metadata": {},
   "outputs": [
    {
     "data": {
      "text/plain": [
       "2"
      ]
     },
     "execution_count": 31,
     "metadata": {},
     "output_type": "execute_result"
    }
   ],
   "source": [
    "x"
   ]
  },
  {
   "cell_type": "code",
   "execution_count": 35,
   "metadata": {},
   "outputs": [
    {
     "ename": "NameError",
     "evalue": "name 'c' is not defined",
     "output_type": "error",
     "traceback": [
      "\u001b[1;31m---------------------------------------------------------------------------\u001b[0m",
      "\u001b[1;31mNameError\u001b[0m                                 Traceback (most recent call last)",
      "\u001b[1;32m<ipython-input-35-2b66fd261ee5>\u001b[0m in \u001b[0;36m<module>\u001b[1;34m\u001b[0m\n\u001b[1;32m----> 1\u001b[1;33m \u001b[0mc\u001b[0m\u001b[1;33m\u001b[0m\u001b[1;33m\u001b[0m\u001b[0m\n\u001b[0m",
      "\u001b[1;31mNameError\u001b[0m: name 'c' is not defined"
     ]
    }
   ],
   "source": [
    "c"
   ]
  },
  {
   "cell_type": "code",
   "execution_count": null,
   "metadata": {},
   "outputs": [],
   "source": []
  },
  {
   "cell_type": "code",
   "execution_count": 36,
   "metadata": {},
   "outputs": [],
   "source": [
    "#without parameters how to return the value.\n",
    "def MJ():\n",
    "    print(\"mic jac\")\n",
    "\n",
    "def MJ1():\n",
    "    print(\"mic jac\")\n",
    "    return(None)"
   ]
  },
  {
   "cell_type": "code",
   "execution_count": 38,
   "metadata": {},
   "outputs": [
    {
     "name": "stdout",
     "output_type": "stream",
     "text": [
      "mic jac\n"
     ]
    }
   ],
   "source": [
    "MJ()"
   ]
  },
  {
   "cell_type": "code",
   "execution_count": 39,
   "metadata": {},
   "outputs": [
    {
     "name": "stdout",
     "output_type": "stream",
     "text": [
      "mic jac\n"
     ]
    }
   ],
   "source": [
    "MJ1()"
   ]
  },
  {
   "cell_type": "code",
   "execution_count": 42,
   "metadata": {},
   "outputs": [
    {
     "name": "stdout",
     "output_type": "stream",
     "text": [
      "mic jac\n",
      "None\n",
      "mic jac\n",
      "None\n"
     ]
    }
   ],
   "source": [
    "print(MJ())\n",
    "print(MJ1())"
   ]
  },
  {
   "cell_type": "code",
   "execution_count": null,
   "metadata": {},
   "outputs": [],
   "source": []
  },
  {
   "cell_type": "code",
   "execution_count": 43,
   "metadata": {},
   "outputs": [],
   "source": [
    "#concatination of a two strings\n",
    "\n",
    "def con(a, b):\n",
    "    return (a+b)"
   ]
  },
  {
   "cell_type": "code",
   "execution_count": 45,
   "metadata": {},
   "outputs": [
    {
     "data": {
      "text/plain": [
       "'this is'"
      ]
     },
     "execution_count": 45,
     "metadata": {},
     "output_type": "execute_result"
    }
   ],
   "source": [
    "con(\"this\",\" is\")"
   ]
  },
  {
   "cell_type": "code",
   "execution_count": null,
   "metadata": {},
   "outputs": [],
   "source": []
  },
  {
   "cell_type": "code",
   "execution_count": 6,
   "metadata": {},
   "outputs": [],
   "source": [
    "#using two returns\n",
    "def con(a, b):\n",
    "    return (a+b)\n",
    "    \n",
    "    return()"
   ]
  },
  {
   "cell_type": "code",
   "execution_count": null,
   "metadata": {},
   "outputs": [],
   "source": []
  },
  {
   "cell_type": "code",
   "execution_count": null,
   "metadata": {},
   "outputs": [],
   "source": []
  },
  {
   "cell_type": "code",
   "execution_count": 49,
   "metadata": {},
   "outputs": [
    {
     "data": {
      "text/plain": [
       "5"
      ]
     },
     "execution_count": 49,
     "metadata": {},
     "output_type": "execute_result"
    }
   ],
   "source": [
    "a1=1\n",
    "b1=2\n",
    "c1=a1+b1+2*a1*b1-1\n",
    "if(c1<0):\n",
    "    c1=0\n",
    "else:\n",
    "    c1=5\n",
    "c1"
   ]
  },
  {
   "cell_type": "code",
   "execution_count": 50,
   "metadata": {},
   "outputs": [
    {
     "data": {
      "text/plain": [
       "0"
      ]
     },
     "execution_count": 50,
     "metadata": {},
     "output_type": "execute_result"
    }
   ],
   "source": [
    "a2=0\n",
    "b2=0\n",
    "c2=a2+b2+2*a2*b2-1\n",
    "if(c2<0):\n",
    "    c2=0\n",
    "else:\n",
    "    c2=5\n",
    "c2"
   ]
  },
  {
   "cell_type": "code",
   "execution_count": null,
   "metadata": {},
   "outputs": [],
   "source": []
  },
  {
   "cell_type": "code",
   "execution_count": 52,
   "metadata": {},
   "outputs": [],
   "source": [
    "def Equation(a,b):\n",
    "    c=a+b+2*a*b-1\n",
    "    if(c<0):\n",
    "        c=0\n",
    "    else:\n",
    "        c=5\n",
    "    return(c)"
   ]
  },
  {
   "cell_type": "code",
   "execution_count": null,
   "metadata": {},
   "outputs": [],
   "source": []
  },
  {
   "cell_type": "code",
   "execution_count": 53,
   "metadata": {},
   "outputs": [
    {
     "data": {
      "text/plain": [
       "5"
      ]
     },
     "execution_count": 53,
     "metadata": {},
     "output_type": "execute_result"
    }
   ],
   "source": [
    "a1=3\n",
    "b1=4\n",
    "c1=Equation(a1,b1)\n",
    "c1"
   ]
  },
  {
   "cell_type": "code",
   "execution_count": 54,
   "metadata": {},
   "outputs": [
    {
     "data": {
      "text/plain": [
       "5"
      ]
     },
     "execution_count": 54,
     "metadata": {},
     "output_type": "execute_result"
    }
   ],
   "source": [
    "a2=0\n",
    "b2=4\n",
    "c2=Equation(a1,b1)\n",
    "c2"
   ]
  },
  {
   "cell_type": "code",
   "execution_count": null,
   "metadata": {},
   "outputs": [],
   "source": []
  },
  {
   "cell_type": "code",
   "execution_count": 2,
   "metadata": {},
   "outputs": [],
   "source": [
    "#BUILD IN  function "
   ]
  },
  {
   "cell_type": "code",
   "execution_count": 4,
   "metadata": {},
   "outputs": [
    {
     "name": "stdout",
     "output_type": "stream",
     "text": [
      "[10.0, 20.0, 30.0, 10.2, 4.0, 7.0, 2.0, 7.0]\n"
     ]
    }
   ],
   "source": [
    "album_ratings = [10.0,20.0,30.0,10.2,4.0,7.0,2.0,7.0]\n",
    "print(album_ratings)"
   ]
  },
  {
   "cell_type": "code",
   "execution_count": null,
   "metadata": {},
   "outputs": [],
   "source": []
  },
  {
   "cell_type": "code",
   "execution_count": 5,
   "metadata": {},
   "outputs": [
    {
     "data": {
      "text/plain": [
       "8"
      ]
     },
     "execution_count": 5,
     "metadata": {},
     "output_type": "execute_result"
    }
   ],
   "source": [
    "len(album_ratings)"
   ]
  },
  {
   "cell_type": "code",
   "execution_count": 7,
   "metadata": {},
   "outputs": [
    {
     "data": {
      "text/plain": [
       "30.0"
      ]
     },
     "execution_count": 7,
     "metadata": {},
     "output_type": "execute_result"
    }
   ],
   "source": [
    "max(album_ratings)"
   ]
  },
  {
   "cell_type": "code",
   "execution_count": 8,
   "metadata": {},
   "outputs": [
    {
     "data": {
      "text/plain": [
       "2.0"
      ]
     },
     "execution_count": 8,
     "metadata": {},
     "output_type": "execute_result"
    }
   ],
   "source": [
    "min(album_ratings)"
   ]
  },
  {
   "cell_type": "code",
   "execution_count": 11,
   "metadata": {},
   "outputs": [
    {
     "data": {
      "text/plain": [
       "'b'"
      ]
     },
     "execution_count": 11,
     "metadata": {},
     "output_type": "execute_result"
    }
   ],
   "source": [
    "chr(98)"
   ]
  },
  {
   "cell_type": "code",
   "execution_count": null,
   "metadata": {},
   "outputs": [],
   "source": []
  },
  {
   "cell_type": "code",
   "execution_count": 13,
   "metadata": {},
   "outputs": [
    {
     "data": {
      "text/plain": [
       "110"
      ]
     },
     "execution_count": 13,
     "metadata": {},
     "output_type": "execute_result"
    }
   ],
   "source": [
    "ord('n')"
   ]
  },
  {
   "cell_type": "code",
   "execution_count": 14,
   "metadata": {},
   "outputs": [
    {
     "data": {
      "text/plain": [
       "2973359777352"
      ]
     },
     "execution_count": 14,
     "metadata": {},
     "output_type": "execute_result"
    }
   ],
   "source": [
    "id(album_ratings)"
   ]
  },
  {
   "cell_type": "code",
   "execution_count": null,
   "metadata": {},
   "outputs": [],
   "source": []
  },
  {
   "cell_type": "code",
   "execution_count": 15,
   "metadata": {},
   "outputs": [],
   "source": [
    "#By using if and else."
   ]
  },
  {
   "cell_type": "code",
   "execution_count": 9,
   "metadata": {},
   "outputs": [
    {
     "name": "stdout",
     "output_type": "stream",
     "text": [
      "mic jac thriller 1980\n",
      "older\n"
     ]
    }
   ],
   "source": [
    "def type_of_album(artist,album,year_released):\n",
    "    print(artist,album,year_released)\n",
    "    if year_released>1980:\n",
    "        return \"modern\"\n",
    "    else:\n",
    "        return \"older\"\n",
    "x=type_of_album(\"mic jac\",\"thriller\",1980)\n",
    "print(x)"
   ]
  },
  {
   "cell_type": "code",
   "execution_count": 17,
   "metadata": {},
   "outputs": [],
   "source": [
    "#by using for loop\n"
   ]
  },
  {
   "cell_type": "code",
   "execution_count": 19,
   "metadata": {},
   "outputs": [],
   "source": [
    "def printlist(the_list):\n",
    "    for element in the_list:\n",
    "        print(element)"
   ]
  },
  {
   "cell_type": "code",
   "execution_count": 21,
   "metadata": {},
   "outputs": [
    {
     "name": "stdout",
     "output_type": "stream",
     "text": [
      "1\n",
      "1\n",
      "the man\n",
      "abc\n"
     ]
    }
   ],
   "source": [
    "printlist([\"1\",1,'the man','abc'])"
   ]
  },
  {
   "cell_type": "code",
   "execution_count": 22,
   "metadata": {},
   "outputs": [],
   "source": [
    "#decorators"
   ]
  },
  {
   "cell_type": "code",
   "execution_count": 23,
   "metadata": {},
   "outputs": [
    {
     "data": {
      "text/plain": [
       "11"
      ]
     },
     "execution_count": 23,
     "metadata": {},
     "output_type": "execute_result"
    }
   ],
   "source": [
    "def succ(x):\n",
    "    return x+1\n",
    "var=succ   --->#here var is a decorator\n",
    "var(10)"
   ]
  },
  {
   "cell_type": "code",
   "execution_count": 24,
   "metadata": {},
   "outputs": [
    {
     "data": {
      "text/plain": [
       "27"
      ]
     },
     "execution_count": 24,
     "metadata": {},
     "output_type": "execute_result"
    }
   ],
   "source": [
    "var(26)"
   ]
  },
  {
   "cell_type": "code",
   "execution_count": 28,
   "metadata": {},
   "outputs": [
    {
     "name": "stdout",
     "output_type": "stream",
     "text": [
      "hello\n",
      "hi this is bhargav\n"
     ]
    }
   ],
   "source": [
    "def first(msg):\n",
    "    print(msg)\n",
    "first(\"hello\")\n",
    "\n",
    "\n",
    "\n",
    "second=first   -->#here sec is a decorator\n",
    "\n",
    "second(\"hi this is bhargav\")"
   ]
  },
  {
   "cell_type": "code",
   "execution_count": 29,
   "metadata": {},
   "outputs": [],
   "source": [
    "#higher order fun"
   ]
  },
  {
   "cell_type": "code",
   "execution_count": 4,
   "metadata": {},
   "outputs": [
    {
     "name": "stdout",
     "output_type": "stream",
     "text": [
      "it's68.0degrees\n"
     ]
    }
   ],
   "source": [
    "def temp(t):\n",
    "    \"\"\"fun is used for measure the temp\"\"\"\n",
    "    def celsi(x):\n",
    "        return 9*x/5+32\n",
    "    \n",
    "    result = \"it's\"+str(celsi(t)) +\"degrees\"\n",
    "    return(result)\n",
    "print(temp(20))"
   ]
  },
  {
   "cell_type": "code",
   "execution_count": null,
   "metadata": {},
   "outputs": [],
   "source": []
  },
  {
   "cell_type": "code",
   "execution_count": 34,
   "metadata": {},
   "outputs": [],
   "source": [
    "def make(func):\n",
    "    def inner():\n",
    "        print(\"i got decorated\")\n",
    "        func()\n",
    "    return inner\n",
    "def ordinary():\n",
    "    print(\"i am ordinary\")"
   ]
  },
  {
   "cell_type": "code",
   "execution_count": 38,
   "metadata": {},
   "outputs": [
    {
     "name": "stdout",
     "output_type": "stream",
     "text": [
      "i got decorated\n",
      "i am ordinary\n"
     ]
    }
   ],
   "source": [
    "p=make(ordinary)\n",
    "p()"
   ]
  },
  {
   "cell_type": "code",
   "execution_count": null,
   "metadata": {},
   "outputs": [],
   "source": []
  },
  {
   "cell_type": "code",
   "execution_count": null,
   "metadata": {},
   "outputs": [],
   "source": [
    "a = float(input('Enter first side: '))\n",
    "b = float(input('Enter second side: '))\n",
    "c = float(input('Enter third side: '))\n",
    "side= (a + b + c) / 2\n",
    "area = (side*(side-a)*(side-b)*(side-c)) ** 0.5\n",
    "print('The area of the triangle is %0.2f' %area)"
   ]
  },
  {
   "cell_type": "code",
   "execution_count": null,
   "metadata": {},
   "outputs": [],
   "source": [
    "#area of "
   ]
  },
  {
   "cell_type": "code",
   "execution_count": 12,
   "metadata": {},
   "outputs": [
    {
     "name": "stdin",
     "output_type": "stream",
     "text": [
      "Enter first side:  5\n",
      "Enter second side:  5\n",
      "Enter third side:  5\n",
      "Enter third side:  5\n"
     ]
    },
    {
     "name": "stdout",
     "output_type": "stream",
     "text": [
      "The area of the rectangle is 79.06\n"
     ]
    }
   ],
   "source": [
    "a = float(input('Enter first side: '))\n",
    "b = float(input('Enter second side: '))\n",
    "c = float(input('Enter third side: '))\n",
    "d = float(input('Enter third side: '))\n",
    "side= (a + b + c + d) / 2\n",
    "area = (side*(side-a)*(side-b)*(side-c)*(side-d)) ** 0.5\n",
    "print('The area of the rectangle is %0.2f' %area)"
   ]
  },
  {
   "cell_type": "code",
   "execution_count": null,
   "metadata": {},
   "outputs": [],
   "source": []
  },
  {
   "cell_type": "code",
   "execution_count": null,
   "metadata": {},
   "outputs": [],
   "source": []
  },
  {
   "cell_type": "code",
   "execution_count": 8,
   "metadata": {},
   "outputs": [
    {
     "data": {
      "text/plain": [
       "5.830951894845301"
      ]
     },
     "execution_count": 8,
     "metadata": {},
     "output_type": "execute_result"
    }
   ],
   "source": [
    "x=abs(3+5j)   #--># abs means absolute value\n",
    "x"
   ]
  },
  {
   "cell_type": "code",
   "execution_count": null,
   "metadata": {},
   "outputs": [],
   "source": []
  },
  {
   "cell_type": "code",
   "execution_count": null,
   "metadata": {},
   "outputs": [],
   "source": []
  },
  {
   "cell_type": "code",
   "execution_count": 3,
   "metadata": {},
   "outputs": [
    {
     "data": {
      "text/plain": [
       "False"
      ]
     },
     "execution_count": 3,
     "metadata": {},
     "output_type": "execute_result"
    }
   ],
   "source": [
    "mytuple = (0,True,False)\n",
    "x=all(mytuple)\n",
    "x"
   ]
  },
  {
   "cell_type": "code",
   "execution_count": 4,
   "metadata": {},
   "outputs": [
    {
     "data": {
      "text/plain": [
       "True"
      ]
     },
     "execution_count": 4,
     "metadata": {},
     "output_type": "execute_result"
    }
   ],
   "source": [
    "mylist = [True,True,True]\n",
    "x=all(mylist)\n",
    "x"
   ]
  },
  {
   "cell_type": "code",
   "execution_count": 5,
   "metadata": {},
   "outputs": [
    {
     "data": {
      "text/plain": [
       "True"
      ]
     },
     "execution_count": 5,
     "metadata": {},
     "output_type": "execute_result"
    }
   ],
   "source": [
    "mylist = [True,False,True]\n",
    "x=any(mylist)\n",
    "x"
   ]
  },
  {
   "cell_type": "code",
   "execution_count": null,
   "metadata": {},
   "outputs": [],
   "source": []
  },
  {
   "cell_type": "code",
   "execution_count": 10,
   "metadata": {},
   "outputs": [
    {
     "data": {
      "text/plain": [
       "\"'\\\\u03b2\\\\xae\\\\u2260\\\\xaea'\""
      ]
     },
     "execution_count": 10,
     "metadata": {},
     "output_type": "execute_result"
    }
   ],
   "source": [
    "x=ascii(\"β®≠®a\")\n",
    "x"
   ]
  },
  {
   "cell_type": "code",
   "execution_count": 11,
   "metadata": {},
   "outputs": [
    {
     "data": {
      "text/plain": [
       "'0b11011'"
      ]
     },
     "execution_count": 11,
     "metadata": {},
     "output_type": "execute_result"
    }
   ],
   "source": [
    "x=bin(27)\n",
    "x"
   ]
  },
  {
   "cell_type": "code",
   "execution_count": 13,
   "metadata": {},
   "outputs": [
    {
     "data": {
      "text/plain": [
       "True"
      ]
     },
     "execution_count": 13,
     "metadata": {},
     "output_type": "execute_result"
    }
   ],
   "source": [
    "x=bool(1)\n",
    "x"
   ]
  },
  {
   "cell_type": "code",
   "execution_count": 16,
   "metadata": {},
   "outputs": [
    {
     "data": {
      "text/plain": [
       "False"
      ]
     },
     "execution_count": 16,
     "metadata": {},
     "output_type": "execute_result"
    }
   ],
   "source": [
    "x=bool(0)\n",
    "x"
   ]
  },
  {
   "cell_type": "code",
   "execution_count": 17,
   "metadata": {},
   "outputs": [
    {
     "data": {
      "text/plain": [
       "bytearray(b'\\x00\\x00\\x00\\x00')"
      ]
     },
     "execution_count": 17,
     "metadata": {},
     "output_type": "execute_result"
    }
   ],
   "source": [
    "x=bytearray(4)\n",
    "x"
   ]
  },
  {
   "cell_type": "code",
   "execution_count": 19,
   "metadata": {},
   "outputs": [
    {
     "data": {
      "text/plain": [
       "b'\\x00\\x00\\x00\\x00'"
      ]
     },
     "execution_count": 19,
     "metadata": {},
     "output_type": "execute_result"
    }
   ],
   "source": [
    "x=bytes(4)\n",
    "x"
   ]
  },
  {
   "cell_type": "code",
   "execution_count": 29,
   "metadata": {},
   "outputs": [
    {
     "name": "stdout",
     "output_type": "stream",
     "text": [
      "True\n"
     ]
    }
   ],
   "source": [
    "def y():\n",
    "    a=5\n",
    "print(callable(y))"
   ]
  },
  {
   "cell_type": "code",
   "execution_count": 31,
   "metadata": {},
   "outputs": [
    {
     "name": "stdout",
     "output_type": "stream",
     "text": [
      "False\n"
     ]
    }
   ],
   "source": [
    "x=5\n",
    "print(callable(x))"
   ]
  },
  {
   "cell_type": "code",
   "execution_count": null,
   "metadata": {},
   "outputs": [],
   "source": []
  },
  {
   "cell_type": "code",
   "execution_count": 30,
   "metadata": {},
   "outputs": [
    {
     "data": {
      "text/plain": [
       "'A'"
      ]
     },
     "execution_count": 30,
     "metadata": {},
     "output_type": "execute_result"
    }
   ],
   "source": [
    "x=chr(65)\n",
    "x"
   ]
  },
  {
   "cell_type": "code",
   "execution_count": 32,
   "metadata": {
    "collapsed": true,
    "jupyter": {
     "outputs_hidden": true
    }
   },
   "outputs": [
    {
     "name": "stdout",
     "output_type": "stream",
     "text": [
      "\u0000\n",
      "\u0001\n",
      "\u0002\n",
      "\u0003\n",
      "\u0004\n",
      "\u0005\n",
      "\u0006\n",
      "\u0007\n",
      "\b\n",
      "\t\n",
      "\n",
      "\n",
      "\u000b",
      "\n",
      "\f",
      "\n",
      "\n",
      "\u000e\n",
      "\u000f\n",
      "\u0010\n",
      "\u0011\n",
      "\u0012\n",
      "\u0013\n",
      "\u0014\n",
      "\u0015\n",
      "\u0016\n",
      "\u0017\n",
      "\u0018\n",
      "\u0019\n",
      "\u001a\n",
      "\u001b\n",
      "\u001c",
      "\n",
      "\u001d",
      "\n",
      "\u001e",
      "\n",
      "\u001f\n",
      " \n",
      "!\n",
      "\"\n",
      "#\n",
      "$\n",
      "%\n",
      "&\n",
      "'\n",
      "(\n",
      ")\n",
      "*\n",
      "+\n",
      ",\n",
      "-\n",
      ".\n",
      "/\n",
      "0\n",
      "1\n",
      "2\n",
      "3\n",
      "4\n",
      "5\n",
      "6\n",
      "7\n",
      "8\n",
      "9\n",
      ":\n",
      ";\n",
      "<\n",
      "=\n",
      ">\n",
      "?\n",
      "@\n",
      "A\n",
      "B\n",
      "C\n",
      "D\n",
      "E\n",
      "F\n",
      "G\n",
      "H\n",
      "I\n",
      "J\n",
      "K\n",
      "L\n",
      "M\n",
      "N\n",
      "O\n",
      "P\n",
      "Q\n",
      "R\n",
      "S\n",
      "T\n",
      "U\n",
      "V\n",
      "W\n",
      "X\n",
      "Y\n",
      "Z\n",
      "[\n",
      "\\\n",
      "]\n",
      "^\n",
      "_\n",
      "`\n",
      "a\n",
      "b\n",
      "c\n",
      "d\n",
      "e\n",
      "f\n",
      "g\n",
      "h\n",
      "i\n",
      "j\n",
      "k\n",
      "l\n",
      "m\n",
      "n\n",
      "o\n",
      "p\n",
      "q\n",
      "r\n",
      "s\n",
      "t\n",
      "u\n",
      "v\n",
      "w\n",
      "x\n",
      "y\n",
      "z\n",
      "{\n",
      "|\n",
      "}\n",
      "~\n",
      "\n",
      "\n",
      "\n",
      "\n",
      "\n",
      "\n",
      "",
      "\n",
      "\n",
      "\n",
      "\n",
      "\n",
      "\n",
      "\n",
      "\n",
      "\n",
      "\n",
      "\n",
      "\n",
      "\n",
      "\n",
      "\n",
      "\n",
      "\n",
      "\n",
      "\n",
      "\n",
      "\n",
      "\n",
      "\n",
      "\n",
      "\n",
      "\n",
      "\n",
      " \n",
      "¡\n",
      "¢\n",
      "£\n",
      "¤\n",
      "¥\n",
      "¦\n",
      "§\n",
      "¨\n",
      "©\n",
      "ª\n",
      "«\n",
      "¬\n",
      "­\n",
      "®\n",
      "¯\n",
      "°\n",
      "±\n",
      "²\n",
      "³\n",
      "´\n",
      "µ\n",
      "¶\n",
      "·\n",
      "¸\n",
      "¹\n",
      "º\n",
      "»\n",
      "¼\n",
      "½\n",
      "¾\n",
      "¿\n",
      "À\n",
      "Á\n",
      "Â\n",
      "Ã\n",
      "Ä\n",
      "Å\n",
      "Æ\n",
      "Ç\n"
     ]
    }
   ],
   "source": [
    "for i in range(200):\n",
    "    print(chr(i))"
   ]
  },
  {
   "cell_type": "code",
   "execution_count": 33,
   "metadata": {},
   "outputs": [
    {
     "name": "stdout",
     "output_type": "stream",
     "text": [
      "55\n"
     ]
    }
   ],
   "source": [
    "x=compile('print(55)','text','eval')\n",
    "exec(x)"
   ]
  },
  {
   "cell_type": "code",
   "execution_count": 11,
   "metadata": {},
   "outputs": [
    {
     "ename": "SyntaxError",
     "evalue": "invalid syntax (text, line 2)",
     "output_type": "error",
     "traceback": [
      "Traceback \u001b[1;36m(most recent call last)\u001b[0m:\n",
      "  File \u001b[0;32m\"c:\\users\\bhargav bollineni\\appdata\\local\\programs\\python\\python37\\lib\\site-packages\\IPython\\core\\interactiveshell.py\"\u001b[0m, line \u001b[0;32m3326\u001b[0m, in \u001b[0;35mrun_code\u001b[0m\n    exec(code_obj, self.user_global_ns, self.user_ns)\n",
      "\u001b[1;36m  File \u001b[1;32m\"<ipython-input-11-48e348e9cef3>\"\u001b[1;36m, line \u001b[1;32m1\u001b[1;36m, in \u001b[1;35m<module>\u001b[1;36m\u001b[0m\n\u001b[1;33m    x=compile('print(55)\\nprint(88)','text','eval')\u001b[0m\n",
      "\u001b[1;36m  File \u001b[1;32m\"text\"\u001b[1;36m, line \u001b[1;32m2\u001b[0m\n\u001b[1;33m    print(88)\u001b[0m\n\u001b[1;37m        ^\u001b[0m\n\u001b[1;31mSyntaxError\u001b[0m\u001b[1;31m:\u001b[0m invalid syntax\n"
     ]
    }
   ],
   "source": [
    "x=compile('print(55)\\nprint(88)','text','eval')\n",
    "exec(x)"
   ]
  },
  {
   "cell_type": "code",
   "execution_count": 12,
   "metadata": {},
   "outputs": [
    {
     "data": {
      "text/plain": [
       "(3+5j)"
      ]
     },
     "execution_count": 12,
     "metadata": {},
     "output_type": "execute_result"
    }
   ],
   "source": [
    "x=complex(3,5)\n",
    "x"
   ]
  },
  {
   "cell_type": "code",
   "execution_count": 42,
   "metadata": {},
   "outputs": [
    {
     "ename": "AttributeError",
     "evalue": "'person' object has no attribute 'age'",
     "output_type": "error",
     "traceback": [
      "\u001b[1;31m---------------------------------------------------------------------------\u001b[0m",
      "\u001b[1;31mAttributeError\u001b[0m                            Traceback (most recent call last)",
      "\u001b[1;32m<ipython-input-42-166186e33c54>\u001b[0m in \u001b[0;36m<module>\u001b[1;34m\u001b[0m\n\u001b[0;32m      6\u001b[0m \u001b[0mdelattr\u001b[0m\u001b[1;33m(\u001b[0m\u001b[0mperson\u001b[0m\u001b[1;33m,\u001b[0m\u001b[1;34m'age'\u001b[0m\u001b[1;33m)\u001b[0m\u001b[1;33m\u001b[0m\u001b[1;33m\u001b[0m\u001b[0m\n\u001b[0;32m      7\u001b[0m \u001b[0mobj\u001b[0m\u001b[1;33m=\u001b[0m\u001b[0mperson\u001b[0m\u001b[1;33m(\u001b[0m\u001b[1;33m)\u001b[0m\u001b[1;33m\u001b[0m\u001b[1;33m\u001b[0m\u001b[0m\n\u001b[1;32m----> 8\u001b[1;33m \u001b[0mobj\u001b[0m\u001b[1;33m.\u001b[0m\u001b[0mage\u001b[0m      \u001b[1;31m#-->age is deleted by using delattr meathod.\u001b[0m\u001b[1;33m\u001b[0m\u001b[1;33m\u001b[0m\u001b[0m\n\u001b[0m",
      "\u001b[1;31mAttributeError\u001b[0m: 'person' object has no attribute 'age'"
     ]
    }
   ],
   "source": [
    "class person:\n",
    "    name=\"Bhargav\"\n",
    "    age=22\n",
    "    country=\"norway\"\n",
    "    \n",
    "delattr(person,'age')\n",
    "obj=person()\n",
    "obj.age      #-->age is deleted by using delattr meathod."
   ]
  },
  {
   "cell_type": "code",
   "execution_count": 43,
   "metadata": {},
   "outputs": [
    {
     "data": {
      "text/plain": [
       "{'name': 'john', 'age': '22', 'country': 'norway'}"
      ]
     },
     "execution_count": 43,
     "metadata": {},
     "output_type": "execute_result"
    }
   ],
   "source": [
    "x=dict(name='john',age=\"22\",country='norway')\n",
    "x"
   ]
  },
  {
   "cell_type": "code",
   "execution_count": 44,
   "metadata": {},
   "outputs": [
    {
     "name": "stdout",
     "output_type": "stream",
     "text": [
      "['__class__', '__delattr__', '__dict__', '__dir__', '__doc__', '__eq__', '__format__', '__ge__', '__getattribute__', '__gt__', '__hash__', '__init__', '__init_subclass__', '__le__', '__lt__', '__module__', '__ne__', '__new__', '__reduce__', '__reduce_ex__', '__repr__', '__setattr__', '__sizeof__', '__str__', '__subclasshook__', '__weakref__', 'age', 'country', 'name']\n"
     ]
    }
   ],
   "source": [
    "class person:\n",
    "    name=\"Bhargav\"\n",
    "    age=22\n",
    "    country=\"norway\"\n",
    "    \n",
    "print(dir(person))"
   ]
  },
  {
   "cell_type": "code",
   "execution_count": 46,
   "metadata": {},
   "outputs": [
    {
     "data": {
      "text/plain": [
       "(2, 0)"
      ]
     },
     "execution_count": 46,
     "metadata": {},
     "output_type": "execute_result"
    }
   ],
   "source": [
    "x=divmod(4,2)\n",
    "x    #-->in this fun we want both the quotient and remainder we use 'divmod'"
   ]
  },
  {
   "cell_type": "code",
   "execution_count": 48,
   "metadata": {},
   "outputs": [
    {
     "name": "stdout",
     "output_type": "stream",
     "text": [
      "55\n"
     ]
    }
   ],
   "source": [
    "x='print(55)'\n",
    "eval(x)"
   ]
  },
  {
   "cell_type": "code",
   "execution_count": 25,
   "metadata": {},
   "outputs": [
    {
     "ename": "SyntaxError",
     "evalue": "invalid syntax (<string>, line 1)",
     "output_type": "error",
     "traceback": [
      "Traceback \u001b[1;36m(most recent call last)\u001b[0m:\n",
      "  File \u001b[0;32m\"c:\\users\\bhargav bollineni\\appdata\\local\\programs\\python\\python37\\lib\\site-packages\\IPython\\core\\interactiveshell.py\"\u001b[0m, line \u001b[0;32m3326\u001b[0m, in \u001b[0;35mrun_code\u001b[0m\n    exec(code_obj, self.user_global_ns, self.user_ns)\n",
      "\u001b[1;36m  File \u001b[1;32m\"<ipython-input-25-ce784ed12f54>\"\u001b[1;36m, line \u001b[1;32m2\u001b[1;36m, in \u001b[1;35m<module>\u001b[1;36m\u001b[0m\n\u001b[1;33m    eval(x)\u001b[0m\n",
      "\u001b[1;36m  File \u001b[1;32m\"<string>\"\u001b[1;36m, line \u001b[1;32m1\u001b[0m\n\u001b[1;33m    name=\"john\"\u001b[0m\n\u001b[1;37m        ^\u001b[0m\n\u001b[1;31mSyntaxError\u001b[0m\u001b[1;31m:\u001b[0m invalid syntax\n"
     ]
    }
   ],
   "source": [
    "x ='name=\"john\"\\nprint(name)'\n",
    "eval(x)"
   ]
  },
  {
   "cell_type": "code",
   "execution_count": null,
   "metadata": {},
   "outputs": [],
   "source": []
  },
  {
   "cell_type": "code",
   "execution_count": 51,
   "metadata": {},
   "outputs": [
    {
     "name": "stdout",
     "output_type": "stream",
     "text": [
      "27\n",
      "65\n",
      "42\n"
     ]
    }
   ],
   "source": [
    "ages=[5,27,2,7,65,42]\n",
    "def myfunc(x):\n",
    "    if x<18:\n",
    "        return False\n",
    "    else:\n",
    "        return True\n",
    "    \n",
    "adults=filter(myfunc, ages)\n",
    "for x in adults:\n",
    "    print(x)"
   ]
  },
  {
   "cell_type": "code",
   "execution_count": 54,
   "metadata": {},
   "outputs": [
    {
     "data": {
      "text/plain": [
       "3.0"
      ]
     },
     "execution_count": 54,
     "metadata": {},
     "output_type": "execute_result"
    }
   ],
   "source": [
    "x=float(3)\n",
    "x"
   ]
  },
  {
   "cell_type": "code",
   "execution_count": 55,
   "metadata": {},
   "outputs": [
    {
     "data": {
      "text/plain": [
       "'50.000000%'"
      ]
     },
     "execution_count": 55,
     "metadata": {},
     "output_type": "execute_result"
    }
   ],
   "source": [
    "x=format(0.5,'%')\n",
    "x"
   ]
  },
  {
   "cell_type": "code",
   "execution_count": 52,
   "metadata": {},
   "outputs": [
    {
     "data": {
      "text/plain": [
       "frozenset({'apple', 'banana', 'cherry'})"
      ]
     },
     "execution_count": 52,
     "metadata": {},
     "output_type": "execute_result"
    }
   ],
   "source": [
    "mylist=['apple','banana','cherry']\n",
    "x=frozenset(mylist)\n",
    "x"
   ]
  },
  {
   "cell_type": "code",
   "execution_count": null,
   "metadata": {},
   "outputs": [],
   "source": []
  },
  {
   "cell_type": "code",
   "execution_count": null,
   "metadata": {},
   "outputs": [],
   "source": []
  },
  {
   "cell_type": "code",
   "execution_count": 53,
   "metadata": {},
   "outputs": [
    {
     "data": {
      "text/plain": [
       "{'apple', 'banana', 'cherry'}"
      ]
     },
     "execution_count": 53,
     "metadata": {},
     "output_type": "execute_result"
    }
   ],
   "source": [
    "set(mylist)"
   ]
  },
  {
   "cell_type": "code",
   "execution_count": null,
   "metadata": {},
   "outputs": [],
   "source": []
  },
  {
   "cell_type": "code",
   "execution_count": 58,
   "metadata": {},
   "outputs": [
    {
     "data": {
      "text/plain": [
       "22"
      ]
     },
     "execution_count": 58,
     "metadata": {},
     "output_type": "execute_result"
    }
   ],
   "source": [
    "class person:\n",
    "    name=\"Bhargav\"\n",
    "    age=22\n",
    "    country=\"norway\"\n",
    "x=getattr(person,'age')\n",
    "x"
   ]
  },
  {
   "cell_type": "code",
   "execution_count": 59,
   "metadata": {
    "collapsed": true,
    "jupyter": {
     "outputs_hidden": true
    }
   },
   "outputs": [
    {
     "data": {
      "text/plain": [
       "{'__name__': '__main__',\n",
       " '__doc__': 'Automatically created module for IPython interactive environment',\n",
       " '__package__': None,\n",
       " '__loader__': None,\n",
       " '__spec__': None,\n",
       " '__builtin__': <module 'builtins' (built-in)>,\n",
       " '__builtins__': <module 'builtins' (built-in)>,\n",
       " '_ih': ['',\n",
       "  'x=abs(3+5j)\\nx',\n",
       "  'mytuple = (0,True,False)\\nx=mytuple\\nx',\n",
       "  'mytuple = (0,True,False)\\nx=all(mytuple)\\nx',\n",
       "  'mylist = [True,True,True]\\nx=all(mylist)\\nx',\n",
       "  'mylist = [True,False,True]\\nx=any(mylist)\\nx',\n",
       "  'x=abs(3+5j)   -->#abs means absolute value\\nx',\n",
       "  'x=abs(3+5j)   -->#abs means absolute value\\nx',\n",
       "  'x=abs(3+5j)   #   --># abs means absolute value\\nx',\n",
       "  'x=ascii(\"β®≠®a\")\\nx=',\n",
       "  'x=ascii(\"β®≠®a\")\\nx',\n",
       "  'x=bin(27)\\nx',\n",
       "  'x=bool(1)',\n",
       "  'x=bool(1)\\nx',\n",
       "  'x=bool(0)',\n",
       "  'x=bool(0)\\nx',\n",
       "  'x=bool(0)\\nx',\n",
       "  'x=bytearray(4)\\nx',\n",
       "  'x=bytes(4)',\n",
       "  'x=bytes(4)\\nx',\n",
       "  'def y():\\n    a=5\\n    \\nprint(callable(y))',\n",
       "  'def y():\\n    a=0\\n    \\nprint(callable(y))',\n",
       "  'def y():\\n    a=5\\n    \\nprint(callable(y))',\n",
       "  'def y():\\n    \\nprint(callable(y))',\n",
       "  'def y():\\n        a=5\\n\\nprint(callable(y))',\n",
       "  'def y():\\n\\nprint(callable(y))',\n",
       "  'def y():\\n\\n    print(callable(y))',\n",
       "  'def y():\\n    a=5\\n    print(callable(y))',\n",
       "  'def y():\\n    a=5\\n    print(callable(y))',\n",
       "  'def y():\\n    a=5\\nprint(callable(y))',\n",
       "  'x=chr(65)\\nx',\n",
       "  'x=5\\nprint(callable(x))',\n",
       "  'for i in range(200):\\n    print(chr(i))',\n",
       "  \"x=compile('print(55)','text','eval')\\nexec(x)\",\n",
       "  \"x=compile('print(55)\\\\n(88)','text','eval')\\nexec(x)\",\n",
       "  \"x=compile('print(55)\\\\nprint(88)','text','eval')\\nexec(x)\",\n",
       "  \"x=compile('print(55)\\\\nprint(88')','text','eval')\\nexec(x)\",\n",
       "  \"x=compile('print(55)\\\\nprint(88)','text','eval')\\nexec(x)\",\n",
       "  'x=compex(3,5)\\nx',\n",
       "  'x=complex(3,5)\\nx',\n",
       "  \"x=compile('print(55)\\\\nprint(88)' , 'text','eval')\\nexec(x)\",\n",
       "  'class person:\\n    name=\"Bhargav\"\\n    age=22\\n    country=\"norway\"\\n    \\ndelattr(person,\\'age\\')\\nobj=person()\\nobj.age',\n",
       "  'class person:\\n    name=\"Bhargav\"\\n    age=22\\n    country=\"norway\"\\n    \\ndelattr(person,\\'age\\')\\nobj=person()\\nobj.age      #-->age is deleted by using delattr meathod.',\n",
       "  'x=dict(name=\\'john\\',age=\"22\",country=\\'norway\\')\\nx',\n",
       "  'class person:\\n    name=\"Bhargav\"\\n    age=22\\n    country=\"norway\"\\n    \\nprint(dir(person))',\n",
       "  'x=divmod(4,2)\\nx',\n",
       "  \"x=divmod(4,2)\\nx    #-->in this fun we want both the quotient and remainder we use 'divmod'\",\n",
       "  \"x='print(55)'\\nx\",\n",
       "  \"x='print(55)'\\neval(x)\",\n",
       "  'x=\\'name=\"john\"\\\\nprint(name)\\'\\neval(x)',\n",
       "  'x=\\'name = \"john\"\\\\nprint(name)\\'\\neval(x)',\n",
       "  'ages=[5,27,2,7,65,42]\\ndef myfunc(x):\\n    if x<18:\\n        return False\\n    else:\\n        return True\\n    \\nadults=filter(myfunc, ages)\\nfor x in adults:\\n    print(x)',\n",
       "  \"mylist=['apple','banana','cherry']\\nx=frozenset(mylist)\\nx\",\n",
       "  'set(mylist)',\n",
       "  'x=float(3)\\nx',\n",
       "  \"x=format(0.5,'%')\\nx\",\n",
       "  'class person:\\n    name=\"Bhargav\"\\n    age=22\\n    country=\"norway\"\\nx=getattr(person,\\'age\\')\\nx',\n",
       "  'class person:\\n    name=\"Bhargav\"\\n    age=22\\n    country=\"norway\"\\nx=getattr(person,\\'name\\')\\nx',\n",
       "  'class person:\\n    name=\"Bhargav\"\\n    age=22\\n    country=\"norway\"\\nx=getattr(person,\\'age\\')\\nx',\n",
       "  'x=globals()\\nx'],\n",
       " '_oh': {1: 5.830951894845301,\n",
       "  2: (0, True, False),\n",
       "  3: False,\n",
       "  4: True,\n",
       "  5: True,\n",
       "  8: 5.830951894845301,\n",
       "  10: \"'\\\\u03b2\\\\xae\\\\u2260\\\\xaea'\",\n",
       "  11: '0b11011',\n",
       "  13: True,\n",
       "  15: False,\n",
       "  16: False,\n",
       "  17: bytearray(b'\\x00\\x00\\x00\\x00'),\n",
       "  19: b'\\x00\\x00\\x00\\x00',\n",
       "  30: 'A',\n",
       "  39: (3+5j),\n",
       "  43: {'name': 'john', 'age': '22', 'country': 'norway'},\n",
       "  45: (2, 0),\n",
       "  46: (2, 0),\n",
       "  47: 'print(55)',\n",
       "  52: frozenset({'apple', 'banana', 'cherry'}),\n",
       "  53: {'apple', 'banana', 'cherry'},\n",
       "  54: 3.0,\n",
       "  55: '50.000000%',\n",
       "  56: 22,\n",
       "  57: 'Bhargav',\n",
       "  58: 22},\n",
       " '_dh': ['C:\\\\Users\\\\Bhargav Bollineni'],\n",
       " 'In': ['',\n",
       "  'x=abs(3+5j)\\nx',\n",
       "  'mytuple = (0,True,False)\\nx=mytuple\\nx',\n",
       "  'mytuple = (0,True,False)\\nx=all(mytuple)\\nx',\n",
       "  'mylist = [True,True,True]\\nx=all(mylist)\\nx',\n",
       "  'mylist = [True,False,True]\\nx=any(mylist)\\nx',\n",
       "  'x=abs(3+5j)   -->#abs means absolute value\\nx',\n",
       "  'x=abs(3+5j)   -->#abs means absolute value\\nx',\n",
       "  'x=abs(3+5j)   #   --># abs means absolute value\\nx',\n",
       "  'x=ascii(\"β®≠®a\")\\nx=',\n",
       "  'x=ascii(\"β®≠®a\")\\nx',\n",
       "  'x=bin(27)\\nx',\n",
       "  'x=bool(1)',\n",
       "  'x=bool(1)\\nx',\n",
       "  'x=bool(0)',\n",
       "  'x=bool(0)\\nx',\n",
       "  'x=bool(0)\\nx',\n",
       "  'x=bytearray(4)\\nx',\n",
       "  'x=bytes(4)',\n",
       "  'x=bytes(4)\\nx',\n",
       "  'def y():\\n    a=5\\n    \\nprint(callable(y))',\n",
       "  'def y():\\n    a=0\\n    \\nprint(callable(y))',\n",
       "  'def y():\\n    a=5\\n    \\nprint(callable(y))',\n",
       "  'def y():\\n    \\nprint(callable(y))',\n",
       "  'def y():\\n        a=5\\n\\nprint(callable(y))',\n",
       "  'def y():\\n\\nprint(callable(y))',\n",
       "  'def y():\\n\\n    print(callable(y))',\n",
       "  'def y():\\n    a=5\\n    print(callable(y))',\n",
       "  'def y():\\n    a=5\\n    print(callable(y))',\n",
       "  'def y():\\n    a=5\\nprint(callable(y))',\n",
       "  'x=chr(65)\\nx',\n",
       "  'x=5\\nprint(callable(x))',\n",
       "  'for i in range(200):\\n    print(chr(i))',\n",
       "  \"x=compile('print(55)','text','eval')\\nexec(x)\",\n",
       "  \"x=compile('print(55)\\\\n(88)','text','eval')\\nexec(x)\",\n",
       "  \"x=compile('print(55)\\\\nprint(88)','text','eval')\\nexec(x)\",\n",
       "  \"x=compile('print(55)\\\\nprint(88')','text','eval')\\nexec(x)\",\n",
       "  \"x=compile('print(55)\\\\nprint(88)','text','eval')\\nexec(x)\",\n",
       "  'x=compex(3,5)\\nx',\n",
       "  'x=complex(3,5)\\nx',\n",
       "  \"x=compile('print(55)\\\\nprint(88)' , 'text','eval')\\nexec(x)\",\n",
       "  'class person:\\n    name=\"Bhargav\"\\n    age=22\\n    country=\"norway\"\\n    \\ndelattr(person,\\'age\\')\\nobj=person()\\nobj.age',\n",
       "  'class person:\\n    name=\"Bhargav\"\\n    age=22\\n    country=\"norway\"\\n    \\ndelattr(person,\\'age\\')\\nobj=person()\\nobj.age      #-->age is deleted by using delattr meathod.',\n",
       "  'x=dict(name=\\'john\\',age=\"22\",country=\\'norway\\')\\nx',\n",
       "  'class person:\\n    name=\"Bhargav\"\\n    age=22\\n    country=\"norway\"\\n    \\nprint(dir(person))',\n",
       "  'x=divmod(4,2)\\nx',\n",
       "  \"x=divmod(4,2)\\nx    #-->in this fun we want both the quotient and remainder we use 'divmod'\",\n",
       "  \"x='print(55)'\\nx\",\n",
       "  \"x='print(55)'\\neval(x)\",\n",
       "  'x=\\'name=\"john\"\\\\nprint(name)\\'\\neval(x)',\n",
       "  'x=\\'name = \"john\"\\\\nprint(name)\\'\\neval(x)',\n",
       "  'ages=[5,27,2,7,65,42]\\ndef myfunc(x):\\n    if x<18:\\n        return False\\n    else:\\n        return True\\n    \\nadults=filter(myfunc, ages)\\nfor x in adults:\\n    print(x)',\n",
       "  \"mylist=['apple','banana','cherry']\\nx=frozenset(mylist)\\nx\",\n",
       "  'set(mylist)',\n",
       "  'x=float(3)\\nx',\n",
       "  \"x=format(0.5,'%')\\nx\",\n",
       "  'class person:\\n    name=\"Bhargav\"\\n    age=22\\n    country=\"norway\"\\nx=getattr(person,\\'age\\')\\nx',\n",
       "  'class person:\\n    name=\"Bhargav\"\\n    age=22\\n    country=\"norway\"\\nx=getattr(person,\\'name\\')\\nx',\n",
       "  'class person:\\n    name=\"Bhargav\"\\n    age=22\\n    country=\"norway\"\\nx=getattr(person,\\'age\\')\\nx',\n",
       "  'x=globals()\\nx'],\n",
       " 'Out': {1: 5.830951894845301,\n",
       "  2: (0, True, False),\n",
       "  3: False,\n",
       "  4: True,\n",
       "  5: True,\n",
       "  8: 5.830951894845301,\n",
       "  10: \"'\\\\u03b2\\\\xae\\\\u2260\\\\xaea'\",\n",
       "  11: '0b11011',\n",
       "  13: True,\n",
       "  15: False,\n",
       "  16: False,\n",
       "  17: bytearray(b'\\x00\\x00\\x00\\x00'),\n",
       "  19: b'\\x00\\x00\\x00\\x00',\n",
       "  30: 'A',\n",
       "  39: (3+5j),\n",
       "  43: {'name': 'john', 'age': '22', 'country': 'norway'},\n",
       "  45: (2, 0),\n",
       "  46: (2, 0),\n",
       "  47: 'print(55)',\n",
       "  52: frozenset({'apple', 'banana', 'cherry'}),\n",
       "  53: {'apple', 'banana', 'cherry'},\n",
       "  54: 3.0,\n",
       "  55: '50.000000%',\n",
       "  56: 22,\n",
       "  57: 'Bhargav',\n",
       "  58: 22},\n",
       " 'get_ipython': <bound method InteractiveShell.get_ipython of <ipykernel.zmqshell.ZMQInteractiveShell object at 0x000001706D739EC8>>,\n",
       " 'exit': <IPython.core.autocall.ZMQExitAutocall at 0x1706d772dc8>,\n",
       " 'quit': <IPython.core.autocall.ZMQExitAutocall at 0x1706d772dc8>,\n",
       " '_': 22,\n",
       " '__': 'Bhargav',\n",
       " '___': 22,\n",
       " '_i': 'class person:\\n    name=\"Bhargav\"\\n    age=22\\n    country=\"norway\"\\nx=getattr(person,\\'age\\')\\nx',\n",
       " '_ii': 'class person:\\n    name=\"Bhargav\"\\n    age=22\\n    country=\"norway\"\\nx=getattr(person,\\'name\\')\\nx',\n",
       " '_iii': 'class person:\\n    name=\"Bhargav\"\\n    age=22\\n    country=\"norway\"\\nx=getattr(person,\\'age\\')\\nx',\n",
       " '_i1': 'x=abs(3+5j)\\nx',\n",
       " 'x': {...},\n",
       " '_1': 5.830951894845301,\n",
       " '_i2': 'mytuple = (0,True,False)\\nx=mytuple\\nx',\n",
       " 'mytuple': (0, True, False),\n",
       " '_2': (0, True, False),\n",
       " '_i3': 'mytuple = (0,True,False)\\nx=all(mytuple)\\nx',\n",
       " '_3': False,\n",
       " '_i4': 'mylist = [True,True,True]\\nx=all(mylist)\\nx',\n",
       " 'mylist': ['apple', 'banana', 'cherry'],\n",
       " '_4': True,\n",
       " '_i5': 'mylist = [True,False,True]\\nx=any(mylist)\\nx',\n",
       " '_5': True,\n",
       " '_i6': 'x=abs(3+5j)   -->#abs means absolute value\\nx',\n",
       " '_i7': 'x=abs(3+5j)   -->#abs means absolute value\\nx',\n",
       " '_i8': 'x=abs(3+5j)   #   --># abs means absolute value\\nx',\n",
       " '_8': 5.830951894845301,\n",
       " '_i9': 'x=ascii(\"β®≠®a\")\\nx=',\n",
       " '_i10': 'x=ascii(\"β®≠®a\")\\nx',\n",
       " '_10': \"'\\\\u03b2\\\\xae\\\\u2260\\\\xaea'\",\n",
       " '_i11': 'x=bin(27)\\nx',\n",
       " '_11': '0b11011',\n",
       " '_i12': 'x=bool(1)',\n",
       " '_i13': 'x=bool(1)\\nx',\n",
       " '_13': True,\n",
       " '_i14': 'x=bool(0)',\n",
       " '_i15': 'x=bool(0)\\nx',\n",
       " '_15': False,\n",
       " '_i16': 'x=bool(0)\\nx',\n",
       " '_16': False,\n",
       " '_i17': 'x=bytearray(4)\\nx',\n",
       " '_17': bytearray(b'\\x00\\x00\\x00\\x00'),\n",
       " '_i18': 'x=bytes(4)',\n",
       " '_i19': 'x=bytes(4)\\nx',\n",
       " '_19': b'\\x00\\x00\\x00\\x00',\n",
       " '_i20': 'def y():\\n    a=5\\n    \\nprint(callable(y))',\n",
       " 'y': <function __main__.y()>,\n",
       " '_i21': 'def y():\\n    a=0\\n    \\nprint(callable(y))',\n",
       " '_i22': 'def y():\\n    a=5\\n    \\nprint(callable(y))',\n",
       " '_i23': 'def y():\\n    \\nprint(callable(y))',\n",
       " '_i24': 'def y():\\n        a=5\\n\\nprint(callable(y))',\n",
       " '_i25': 'def y():\\n\\nprint(callable(y))',\n",
       " '_i26': 'def y():\\n\\n    print(callable(y))',\n",
       " '_i27': 'def y():\\n    a=5\\n    print(callable(y))',\n",
       " '_i28': 'def y():\\n    a=5\\n    print(callable(y))',\n",
       " '_i29': 'def y():\\n    a=5\\nprint(callable(y))',\n",
       " '_i30': 'x=chr(65)\\nx',\n",
       " '_30': 'A',\n",
       " '_i31': 'x=5\\nprint(callable(x))',\n",
       " '_i32': 'for i in range(200):\\n    print(chr(i))',\n",
       " 'i': 199,\n",
       " '_i33': \"x=compile('print(55)','text','eval')\\nexec(x)\",\n",
       " '_i34': \"x=compile('print(55)\\\\n(88)','text','eval')\\nexec(x)\",\n",
       " '_i35': \"x=compile('print(55)\\\\nprint(88)','text','eval')\\nexec(x)\",\n",
       " '_i36': \"x=compile('print(55)\\\\nprint(88')','text','eval')\\nexec(x)\",\n",
       " '_i37': \"x=compile('print(55)\\\\nprint(88)','text','eval')\\nexec(x)\",\n",
       " '_i38': 'x=compex(3,5)\\nx',\n",
       " '_i39': 'x=complex(3,5)\\nx',\n",
       " '_39': (3+5j),\n",
       " '_i40': \"x=compile('print(55)\\\\nprint(88)' , 'text','eval')\\nexec(x)\",\n",
       " '_i41': 'class person:\\n    name=\"Bhargav\"\\n    age=22\\n    country=\"norway\"\\n    \\ndelattr(person,\\'age\\')\\nobj=person()\\nobj.age',\n",
       " 'person': __main__.person,\n",
       " 'obj': <__main__.person at 0x1706d899e88>,\n",
       " '_i42': 'class person:\\n    name=\"Bhargav\"\\n    age=22\\n    country=\"norway\"\\n    \\ndelattr(person,\\'age\\')\\nobj=person()\\nobj.age      #-->age is deleted by using delattr meathod.',\n",
       " '_i43': 'x=dict(name=\\'john\\',age=\"22\",country=\\'norway\\')\\nx',\n",
       " '_43': {'name': 'john', 'age': '22', 'country': 'norway'},\n",
       " '_i44': 'class person:\\n    name=\"Bhargav\"\\n    age=22\\n    country=\"norway\"\\n    \\nprint(dir(person))',\n",
       " '_i45': 'x=divmod(4,2)\\nx',\n",
       " '_45': (2, 0),\n",
       " '_i46': \"x=divmod(4,2)\\nx    #-->in this fun we want both the quotient and remainder we use 'divmod'\",\n",
       " '_46': (2, 0),\n",
       " '_i47': \"x='print(55)'\\nx\",\n",
       " '_47': 'print(55)',\n",
       " '_i48': \"x='print(55)'\\neval(x)\",\n",
       " '_i49': 'x=\\'name=\"john\"\\\\nprint(name)\\'\\neval(x)',\n",
       " '_i50': 'x=\\'name = \"john\"\\\\nprint(name)\\'\\neval(x)',\n",
       " '_i51': 'ages=[5,27,2,7,65,42]\\ndef myfunc(x):\\n    if x<18:\\n        return False\\n    else:\\n        return True\\n    \\nadults=filter(myfunc, ages)\\nfor x in adults:\\n    print(x)',\n",
       " 'ages': [5, 27, 2, 7, 65, 42],\n",
       " 'myfunc': <function __main__.myfunc(x)>,\n",
       " 'adults': <filter at 0x1706d8a1d88>,\n",
       " '_i52': \"mylist=['apple','banana','cherry']\\nx=frozenset(mylist)\\nx\",\n",
       " '_52': frozenset({'apple', 'banana', 'cherry'}),\n",
       " '_i53': 'set(mylist)',\n",
       " '_53': {'apple', 'banana', 'cherry'},\n",
       " '_i54': 'x=float(3)\\nx',\n",
       " '_54': 3.0,\n",
       " '_i55': \"x=format(0.5,'%')\\nx\",\n",
       " '_55': '50.000000%',\n",
       " '_i56': 'class person:\\n    name=\"Bhargav\"\\n    age=22\\n    country=\"norway\"\\nx=getattr(person,\\'age\\')\\nx',\n",
       " '_56': 22,\n",
       " '_i57': 'class person:\\n    name=\"Bhargav\"\\n    age=22\\n    country=\"norway\"\\nx=getattr(person,\\'name\\')\\nx',\n",
       " '_57': 'Bhargav',\n",
       " '_i58': 'class person:\\n    name=\"Bhargav\"\\n    age=22\\n    country=\"norway\"\\nx=getattr(person,\\'age\\')\\nx',\n",
       " '_58': 22,\n",
       " '_i59': 'x=globals()\\nx'}"
      ]
     },
     "execution_count": 59,
     "metadata": {},
     "output_type": "execute_result"
    }
   ],
   "source": [
    "x=globals()\n",
    "x"
   ]
  },
  {
   "cell_type": "code",
   "execution_count": 60,
   "metadata": {},
   "outputs": [
    {
     "data": {
      "text/plain": [
       "True"
      ]
     },
     "execution_count": 60,
     "metadata": {},
     "output_type": "execute_result"
    }
   ],
   "source": [
    "class person:\n",
    "    name=\"Bhargav\"\n",
    "    age=22\n",
    "    country=\"norway\"\n",
    "x=hasattr(person,'age')\n",
    "x"
   ]
  },
  {
   "cell_type": "code",
   "execution_count": 62,
   "metadata": {},
   "outputs": [
    {
     "data": {
      "text/plain": [
       "'0xa'"
      ]
     },
     "execution_count": 62,
     "metadata": {},
     "output_type": "execute_result"
    }
   ],
   "source": [
    "x=hex(10)\n",
    "x"
   ]
  },
  {
   "cell_type": "code",
   "execution_count": 63,
   "metadata": {},
   "outputs": [
    {
     "data": {
      "text/plain": [
       "104"
      ]
     },
     "execution_count": 63,
     "metadata": {},
     "output_type": "execute_result"
    }
   ],
   "source": [
    "x=ord('h')\n",
    "x"
   ]
  },
  {
   "cell_type": "code",
   "execution_count": 64,
   "metadata": {},
   "outputs": [
    {
     "data": {
      "text/plain": [
       "1582385116328"
      ]
     },
     "execution_count": 64,
     "metadata": {},
     "output_type": "execute_result"
    }
   ],
   "source": [
    "x=('apple','banana','cherry')\n",
    "y=id(x)\n",
    "y"
   ]
  },
  {
   "cell_type": "code",
   "execution_count": 27,
   "metadata": {},
   "outputs": [
    {
     "name": "stdout",
     "output_type": "stream",
     "text": [
      "ent the val:\n"
     ]
    },
    {
     "name": "stdin",
     "output_type": "stream",
     "text": [
      " bhargav\n"
     ]
    },
    {
     "name": "stdout",
     "output_type": "stream",
     "text": [
      "hello bhargav\n"
     ]
    }
   ],
   "source": [
    "print('ent the val:')\n",
    "x=input()\n",
    "print('hello',x)"
   ]
  },
  {
   "cell_type": "code",
   "execution_count": 1,
   "metadata": {},
   "outputs": [],
   "source": [
    "def GoodRating(rating=4):\n",
    "    if (rating <7):\n",
    "        print(\"this is good rating\",rating)\n",
    "    else:\n",
    "        print('this is bad rating',rating)"
   ]
  },
  {
   "cell_type": "code",
   "execution_count": 5,
   "metadata": {},
   "outputs": [
    {
     "name": "stdout",
     "output_type": "stream",
     "text": [
      "this is good rating 4\n",
      "this is bad rating 10\n"
     ]
    }
   ],
   "source": [
    "GoodRating()\n",
    "GoodRating(10)"
   ]
  },
  {
   "cell_type": "code",
   "execution_count": 9,
   "metadata": {},
   "outputs": [
    {
     "name": "stdout",
     "output_type": "stream",
     "text": [
      "mic jac is artist\n"
     ]
    }
   ],
   "source": [
    "artist = \"mic jac\"\n",
    "def printer1(artist):\n",
    "    internal_var=artist\n",
    "    print(artist,\"is artist\")\n",
    "    \n",
    "\n",
    "printer1(arist)"
   ]
  },
  {
   "cell_type": "code",
   "execution_count": 10,
   "metadata": {},
   "outputs": [
    {
     "name": "stdout",
     "output_type": "stream",
     "text": [
      "mic jac\n"
     ]
    }
   ],
   "source": [
    "print(artist)"
   ]
  },
  {
   "cell_type": "code",
   "execution_count": null,
   "metadata": {},
   "outputs": [],
   "source": []
  },
  {
   "cell_type": "code",
   "execution_count": 13,
   "metadata": {},
   "outputs": [
    {
     "name": "stdout",
     "output_type": "stream",
     "text": [
      "mic jac is artist\n",
      "whitney housten is artist\n"
     ]
    }
   ],
   "source": [
    "artist = \"mic jac\"\n",
    "def printer(artist):\n",
    "    global internal_var\n",
    "    internal_var=\"whitney housten\"\n",
    "    print(artist,\"is artist\")\n",
    "    \n",
    "\n",
    "printer1(arist)\n",
    "printer(internal_var)"
   ]
  },
  {
   "cell_type": "code",
   "execution_count": null,
   "metadata": {},
   "outputs": [],
   "source": []
  },
  {
   "cell_type": "code",
   "execution_count": 15,
   "metadata": {},
   "outputs": [
    {
     "name": "stdout",
     "output_type": "stream",
     "text": [
      "AC/DC's rating is: 10.0\n",
      "deeppurples rating is: 0.0\n",
      "my favorite Band is: AC/DC\n"
     ]
    }
   ],
   "source": [
    "myFavoriteBand ='AC/DC'\n",
    "def getBandRating(bandname):\n",
    "    if bandname==myFavoriteBand:\n",
    "        return 10.0\n",
    "    else:\n",
    "        return 0.0\n",
    "print(\"AC/DC's rating is:\", getBandRating('AC/DC'))\n",
    "print(\"deeppurples rating is:\",getBandRating(\"deeppurple\"))\n",
    "print(\"my favorite Band is:\",myFavoriteBand)"
   ]
  },
  {
   "cell_type": "code",
   "execution_count": null,
   "metadata": {},
   "outputs": [],
   "source": []
  },
  {
   "cell_type": "code",
   "execution_count": 16,
   "metadata": {},
   "outputs": [
    {
     "name": "stdout",
     "output_type": "stream",
     "text": [
      "AC/DC's rating is: 10.0\n",
      "deeppurples rating is: 0.0\n",
      "my favorite Band is: AC/DC\n"
     ]
    }
   ],
   "source": [
    "def getBandRating(bandname):\n",
    "    myFavoriteBand ='AC/DC'\n",
    "    if bandname==myFavoriteBand:\n",
    "        return 10.0\n",
    "    else:\n",
    "        return 0.0\n",
    "print(\"AC/DC's rating is:\", getBandRating('AC/DC'))\n",
    "print(\"deeppurples rating is:\",getBandRating(\"deeppurple\"))\n",
    "print(\"my favorite Band is:\",myFavoriteBand)"
   ]
  },
  {
   "cell_type": "code",
   "execution_count": null,
   "metadata": {},
   "outputs": [],
   "source": []
  },
  {
   "cell_type": "code",
   "execution_count": 21,
   "metadata": {},
   "outputs": [
    {
     "name": "stdout",
     "output_type": "stream",
     "text": [
      "AC/DC's rating is: 0.0\n",
      "deeppurples rating is: 10.0\n",
      "my favorite Band is: AC/DC\n"
     ]
    }
   ],
   "source": [
    "myFavoriteBand ='AC/DC'\n",
    "def getBandRating(bandname):\n",
    "    myFavoriteBand ='deep purple'\n",
    "    if bandname==myFavoriteBand:\n",
    "        return 10.0\n",
    "    else:\n",
    "        return 0.0\n",
    "print(\"AC/DC's rating is:\", getBandRating('AC/DC'))\n",
    "print(\"deeppurples rating is:\",getBandRating(\"deep purple\"))\n",
    "print(\"my favorite Band is:\",myFavoriteBand)"
   ]
  },
  {
   "cell_type": "code",
   "execution_count": null,
   "metadata": {},
   "outputs": [],
   "source": []
  },
  {
   "cell_type": "code",
   "execution_count": 22,
   "metadata": {},
   "outputs": [],
   "source": [
    "#use con funtion "
   ]
  },
  {
   "cell_type": "code",
   "execution_count": 23,
   "metadata": {},
   "outputs": [],
   "source": [
    "def con(a, b):\n",
    "    return(a+b)"
   ]
  },
  {
   "cell_type": "code",
   "execution_count": 24,
   "metadata": {},
   "outputs": [
    {
     "data": {
      "text/plain": [
       "30"
      ]
     },
     "execution_count": 24,
     "metadata": {},
     "output_type": "execute_result"
    }
   ],
   "source": [
    "con(10,20)"
   ]
  },
  {
   "cell_type": "code",
   "execution_count": 25,
   "metadata": {},
   "outputs": [
    {
     "data": {
      "text/plain": [
       "'ab'"
      ]
     },
     "execution_count": 25,
     "metadata": {},
     "output_type": "execute_result"
    }
   ],
   "source": [
    "con(\"a\",\"b\")"
   ]
  },
  {
   "cell_type": "code",
   "execution_count": 28,
   "metadata": {},
   "outputs": [
    {
     "data": {
      "text/plain": [
       "[1, 12, 3, 4, 2, 3, 4, 5]"
      ]
     },
     "execution_count": 28,
     "metadata": {},
     "output_type": "execute_result"
    }
   ],
   "source": [
    "con([1,12,3,4],[2,3,4,5])"
   ]
  },
  {
   "cell_type": "code",
   "execution_count": 36,
   "metadata": {},
   "outputs": [
    {
     "ename": "TypeError",
     "evalue": "unsupported operand type(s) for -: 'str' and 'str'",
     "output_type": "error",
     "traceback": [
      "\u001b[1;31m---------------------------------------------------------------------------\u001b[0m",
      "\u001b[1;31mTypeError\u001b[0m                                 Traceback (most recent call last)",
      "\u001b[1;32m<ipython-input-36-bed35b8702ad>\u001b[0m in \u001b[0;36m<module>\u001b[1;34m\u001b[0m\n\u001b[1;32m----> 1\u001b[1;33m \u001b[0mcon\u001b[0m\u001b[1;33m(\u001b[0m\u001b[1;34m'hello'\u001b[0m\u001b[1;33m,\u001b[0m\u001b[1;34m' python'\u001b[0m\u001b[1;33m)\u001b[0m\u001b[1;33m\u001b[0m\u001b[1;33m\u001b[0m\u001b[0m\n\u001b[0m",
      "\u001b[1;32m<ipython-input-31-2a92fd6161f4>\u001b[0m in \u001b[0;36mcon\u001b[1;34m(a, b)\u001b[0m\n\u001b[0;32m      1\u001b[0m \u001b[1;32mdef\u001b[0m \u001b[0mcon\u001b[0m\u001b[1;33m(\u001b[0m\u001b[0ma\u001b[0m\u001b[1;33m,\u001b[0m \u001b[0mb\u001b[0m\u001b[1;33m)\u001b[0m\u001b[1;33m:\u001b[0m\u001b[1;33m\u001b[0m\u001b[1;33m\u001b[0m\u001b[0m\n\u001b[1;32m----> 2\u001b[1;33m     \u001b[1;32mreturn\u001b[0m\u001b[1;33m(\u001b[0m\u001b[0ma\u001b[0m\u001b[1;33m-\u001b[0m\u001b[0mb\u001b[0m\u001b[1;33m)\u001b[0m\u001b[1;33m\u001b[0m\u001b[1;33m\u001b[0m\u001b[0m\n\u001b[0m",
      "\u001b[1;31mTypeError\u001b[0m: unsupported operand type(s) for -: 'str' and 'str'"
     ]
    }
   ],
   "source": []
  },
  {
   "cell_type": "code",
   "execution_count": 37,
   "metadata": {},
   "outputs": [],
   "source": [
    "def con(a, b):\n",
    "    return(a-b)"
   ]
  },
  {
   "cell_type": "code",
   "execution_count": 32,
   "metadata": {},
   "outputs": [
    {
     "data": {
      "text/plain": [
       "-1"
      ]
     },
     "execution_count": 32,
     "metadata": {},
     "output_type": "execute_result"
    }
   ],
   "source": []
  },
  {
   "cell_type": "code",
   "execution_count": 35,
   "metadata": {},
   "outputs": [
    {
     "data": {
      "text/plain": [
       "1"
      ]
     },
     "execution_count": 35,
     "metadata": {},
     "output_type": "execute_result"
    }
   ],
   "source": [
    "con(2,1)"
   ]
  },
  {
   "cell_type": "code",
   "execution_count": null,
   "metadata": {},
   "outputs": [],
   "source": []
  },
  {
   "cell_type": "code",
   "execution_count": 38,
   "metadata": {},
   "outputs": [],
   "source": [
    "def con(a, b):\n",
    "    return(a*b)"
   ]
  },
  {
   "cell_type": "code",
   "execution_count": 39,
   "metadata": {},
   "outputs": [],
   "source": [
    "a=con"
   ]
  },
  {
   "cell_type": "code",
   "execution_count": 40,
   "metadata": {},
   "outputs": [
    {
     "data": {
      "text/plain": [
       "2"
      ]
     },
     "execution_count": 40,
     "metadata": {},
     "output_type": "execute_result"
    }
   ],
   "source": [
    "a(1,2)"
   ]
  },
  {
   "cell_type": "code",
   "execution_count": 41,
   "metadata": {},
   "outputs": [
    {
     "data": {
      "text/plain": [
       "10"
      ]
     },
     "execution_count": 41,
     "metadata": {},
     "output_type": "execute_result"
    }
   ],
   "source": [
    "a(2,5)"
   ]
  },
  {
   "cell_type": "code",
   "execution_count": 42,
   "metadata": {},
   "outputs": [
    {
     "ename": "TypeError",
     "evalue": "can't multiply sequence by non-int of type 'str'",
     "output_type": "error",
     "traceback": [
      "\u001b[1;31m---------------------------------------------------------------------------\u001b[0m",
      "\u001b[1;31mTypeError\u001b[0m                                 Traceback (most recent call last)",
      "\u001b[1;32m<ipython-input-42-6bf9f399f236>\u001b[0m in \u001b[0;36m<module>\u001b[1;34m\u001b[0m\n\u001b[1;32m----> 1\u001b[1;33m \u001b[0ma\u001b[0m\u001b[1;33m(\u001b[0m\u001b[1;34m'a'\u001b[0m\u001b[1;33m,\u001b[0m\u001b[1;34m'b'\u001b[0m\u001b[1;33m)\u001b[0m\u001b[1;33m\u001b[0m\u001b[1;33m\u001b[0m\u001b[0m\n\u001b[0m",
      "\u001b[1;32m<ipython-input-38-c455d93d9a74>\u001b[0m in \u001b[0;36mcon\u001b[1;34m(a, b)\u001b[0m\n\u001b[0;32m      1\u001b[0m \u001b[1;32mdef\u001b[0m \u001b[0mcon\u001b[0m\u001b[1;33m(\u001b[0m\u001b[0ma\u001b[0m\u001b[1;33m,\u001b[0m \u001b[0mb\u001b[0m\u001b[1;33m)\u001b[0m\u001b[1;33m:\u001b[0m\u001b[1;33m\u001b[0m\u001b[1;33m\u001b[0m\u001b[0m\n\u001b[1;32m----> 2\u001b[1;33m     \u001b[1;32mreturn\u001b[0m\u001b[1;33m(\u001b[0m\u001b[0ma\u001b[0m\u001b[1;33m*\u001b[0m\u001b[0mb\u001b[0m\u001b[1;33m)\u001b[0m\u001b[1;33m\u001b[0m\u001b[1;33m\u001b[0m\u001b[0m\n\u001b[0m",
      "\u001b[1;31mTypeError\u001b[0m: can't multiply sequence by non-int of type 'str'"
     ]
    }
   ],
   "source": [
    "a('a','b')"
   ]
  },
  {
   "cell_type": "code",
   "execution_count": 51,
   "metadata": {},
   "outputs": [
    {
     "ename": "TypeError",
     "evalue": "can't multiply sequence by non-int of type 'tuple'",
     "output_type": "error",
     "traceback": [
      "\u001b[1;31m---------------------------------------------------------------------------\u001b[0m",
      "\u001b[1;31mTypeError\u001b[0m                                 Traceback (most recent call last)",
      "\u001b[1;32m<ipython-input-51-b845712c737c>\u001b[0m in \u001b[0;36m<module>\u001b[1;34m\u001b[0m\n\u001b[1;32m----> 1\u001b[1;33m \u001b[0mcon\u001b[0m\u001b[1;33m(\u001b[0m\u001b[1;33m(\u001b[0m\u001b[1;36m1\u001b[0m\u001b[1;33m,\u001b[0m\u001b[1;36m2\u001b[0m\u001b[1;33m,\u001b[0m\u001b[1;36m3\u001b[0m\u001b[1;33m,\u001b[0m\u001b[1;36m4\u001b[0m\u001b[1;33m)\u001b[0m\u001b[1;33m,\u001b[0m\u001b[1;33m(\u001b[0m\u001b[1;36m2\u001b[0m\u001b[1;33m,\u001b[0m\u001b[1;36m23\u001b[0m\u001b[1;33m,\u001b[0m\u001b[1;36m3\u001b[0m\u001b[1;33m,\u001b[0m\u001b[1;36m4\u001b[0m\u001b[1;33m)\u001b[0m\u001b[1;33m)\u001b[0m\u001b[1;33m\u001b[0m\u001b[1;33m\u001b[0m\u001b[0m\n\u001b[0m",
      "\u001b[1;32m<ipython-input-38-c455d93d9a74>\u001b[0m in \u001b[0;36mcon\u001b[1;34m(a, b)\u001b[0m\n\u001b[0;32m      1\u001b[0m \u001b[1;32mdef\u001b[0m \u001b[0mcon\u001b[0m\u001b[1;33m(\u001b[0m\u001b[0ma\u001b[0m\u001b[1;33m,\u001b[0m \u001b[0mb\u001b[0m\u001b[1;33m)\u001b[0m\u001b[1;33m:\u001b[0m\u001b[1;33m\u001b[0m\u001b[1;33m\u001b[0m\u001b[0m\n\u001b[1;32m----> 2\u001b[1;33m     \u001b[1;32mreturn\u001b[0m\u001b[1;33m(\u001b[0m\u001b[0ma\u001b[0m\u001b[1;33m*\u001b[0m\u001b[0mb\u001b[0m\u001b[1;33m)\u001b[0m\u001b[1;33m\u001b[0m\u001b[1;33m\u001b[0m\u001b[0m\n\u001b[0m",
      "\u001b[1;31mTypeError\u001b[0m: can't multiply sequence by non-int of type 'tuple'"
     ]
    }
   ],
   "source": [
    "con((1,2,3,4),(2,23,3,4))"
   ]
  },
  {
   "cell_type": "code",
   "execution_count": null,
   "metadata": {},
   "outputs": [],
   "source": []
  },
  {
   "cell_type": "code",
   "execution_count": 49,
   "metadata": {},
   "outputs": [
    {
     "ename": "TypeError",
     "evalue": "unsupported operand type(s) for *: 'set' and 'set'",
     "output_type": "error",
     "traceback": [
      "\u001b[1;31m---------------------------------------------------------------------------\u001b[0m",
      "\u001b[1;31mTypeError\u001b[0m                                 Traceback (most recent call last)",
      "\u001b[1;32m<ipython-input-49-90ead5d1df5c>\u001b[0m in \u001b[0;36m<module>\u001b[1;34m\u001b[0m\n\u001b[1;32m----> 1\u001b[1;33m \u001b[0ma\u001b[0m\u001b[1;33m(\u001b[0m\u001b[1;33m{\u001b[0m\u001b[1;36m1\u001b[0m\u001b[1;33m,\u001b[0m\u001b[1;36m2\u001b[0m\u001b[1;33m,\u001b[0m\u001b[1;36m3\u001b[0m\u001b[1;33m,\u001b[0m\u001b[1;36m4\u001b[0m\u001b[1;33m}\u001b[0m\u001b[1;33m,\u001b[0m\u001b[1;33m{\u001b[0m\u001b[1;36m2\u001b[0m\u001b[1;33m}\u001b[0m\u001b[1;33m)\u001b[0m\u001b[1;33m\u001b[0m\u001b[1;33m\u001b[0m\u001b[0m\n\u001b[0m",
      "\u001b[1;32m<ipython-input-38-c455d93d9a74>\u001b[0m in \u001b[0;36mcon\u001b[1;34m(a, b)\u001b[0m\n\u001b[0;32m      1\u001b[0m \u001b[1;32mdef\u001b[0m \u001b[0mcon\u001b[0m\u001b[1;33m(\u001b[0m\u001b[0ma\u001b[0m\u001b[1;33m,\u001b[0m \u001b[0mb\u001b[0m\u001b[1;33m)\u001b[0m\u001b[1;33m:\u001b[0m\u001b[1;33m\u001b[0m\u001b[1;33m\u001b[0m\u001b[0m\n\u001b[1;32m----> 2\u001b[1;33m     \u001b[1;32mreturn\u001b[0m\u001b[1;33m(\u001b[0m\u001b[0ma\u001b[0m\u001b[1;33m*\u001b[0m\u001b[0mb\u001b[0m\u001b[1;33m)\u001b[0m\u001b[1;33m\u001b[0m\u001b[1;33m\u001b[0m\u001b[0m\n\u001b[0m",
      "\u001b[1;31mTypeError\u001b[0m: unsupported operand type(s) for *: 'set' and 'set'"
     ]
    }
   ],
   "source": [
    "a({1,2,3,4},{2})"
   ]
  },
  {
   "cell_type": "code",
   "execution_count": 53,
   "metadata": {},
   "outputs": [],
   "source": [
    "def cons(a,b):\n",
    "    return a+b"
   ]
  },
  {
   "cell_type": "code",
   "execution_count": 55,
   "metadata": {},
   "outputs": [
    {
     "data": {
      "text/plain": [
       "30"
      ]
     },
     "execution_count": 55,
     "metadata": {},
     "output_type": "execute_result"
    }
   ],
   "source": [
    "cons(10,20)"
   ]
  },
  {
   "cell_type": "code",
   "execution_count": 57,
   "metadata": {},
   "outputs": [
    {
     "data": {
      "text/plain": [
       "[20, 30, 5, 40, 50, 5]"
      ]
     },
     "execution_count": 57,
     "metadata": {},
     "output_type": "execute_result"
    }
   ],
   "source": [
    "cons([20,30,5],[40,50,5])"
   ]
  },
  {
   "cell_type": "code",
   "execution_count": 58,
   "metadata": {},
   "outputs": [
    {
     "data": {
      "text/plain": [
       "(5, 4, 3, 5, 2, 3)"
      ]
     },
     "execution_count": 58,
     "metadata": {},
     "output_type": "execute_result"
    }
   ],
   "source": [
    "cons((5,4,3),(5,2,3))"
   ]
  },
  {
   "cell_type": "code",
   "execution_count": 59,
   "metadata": {},
   "outputs": [
    {
     "ename": "TypeError",
     "evalue": "unsupported operand type(s) for +: 'set' and 'set'",
     "output_type": "error",
     "traceback": [
      "\u001b[1;31m---------------------------------------------------------------------------\u001b[0m",
      "\u001b[1;31mTypeError\u001b[0m                                 Traceback (most recent call last)",
      "\u001b[1;32m<ipython-input-59-642881207658>\u001b[0m in \u001b[0;36m<module>\u001b[1;34m\u001b[0m\n\u001b[1;32m----> 1\u001b[1;33m \u001b[0mcons\u001b[0m\u001b[1;33m(\u001b[0m\u001b[1;33m{\u001b[0m\u001b[1;36m1\u001b[0m\u001b[1;33m,\u001b[0m\u001b[1;36m2\u001b[0m\u001b[1;33m,\u001b[0m\u001b[1;36m3\u001b[0m\u001b[1;33m,\u001b[0m\u001b[1;36m4\u001b[0m\u001b[1;33m}\u001b[0m\u001b[1;33m,\u001b[0m\u001b[1;33m{\u001b[0m\u001b[1;36m3\u001b[0m\u001b[1;33m,\u001b[0m\u001b[1;36m4\u001b[0m\u001b[1;33m,\u001b[0m\u001b[1;36m5\u001b[0m\u001b[1;33m,\u001b[0m\u001b[1;36m6\u001b[0m\u001b[1;33m}\u001b[0m\u001b[1;33m)\u001b[0m\u001b[1;33m\u001b[0m\u001b[1;33m\u001b[0m\u001b[0m\n\u001b[0m",
      "\u001b[1;32m<ipython-input-53-c599f534461a>\u001b[0m in \u001b[0;36mcons\u001b[1;34m(a, b)\u001b[0m\n\u001b[0;32m      1\u001b[0m \u001b[1;32mdef\u001b[0m \u001b[0mcons\u001b[0m\u001b[1;33m(\u001b[0m\u001b[0ma\u001b[0m\u001b[1;33m,\u001b[0m\u001b[0mb\u001b[0m\u001b[1;33m)\u001b[0m\u001b[1;33m:\u001b[0m\u001b[1;33m\u001b[0m\u001b[1;33m\u001b[0m\u001b[0m\n\u001b[1;32m----> 2\u001b[1;33m     \u001b[1;32mreturn\u001b[0m \u001b[0ma\u001b[0m\u001b[1;33m+\u001b[0m\u001b[0mb\u001b[0m\u001b[1;33m\u001b[0m\u001b[1;33m\u001b[0m\u001b[0m\n\u001b[0m",
      "\u001b[1;31mTypeError\u001b[0m: unsupported operand type(s) for +: 'set' and 'set'"
     ]
    }
   ],
   "source": [
    "cons({1,2,3,4},{3,4,5,6})"
   ]
  },
  {
   "cell_type": "code",
   "execution_count": null,
   "metadata": {},
   "outputs": [],
   "source": []
  },
  {
   "cell_type": "code",
   "execution_count": null,
   "metadata": {},
   "outputs": [],
   "source": [
    "help def"
   ]
  },
  {
   "cell_type": "code",
   "execution_count": null,
   "metadata": {},
   "outputs": [],
   "source": [
    "help(def)"
   ]
  },
  {
   "cell_type": "code",
   "execution_count": 3,
   "metadata": {},
   "outputs": [],
   "source": [
    "#anonymous function  -->means lambda"
   ]
  },
  {
   "cell_type": "code",
   "execution_count": 4,
   "metadata": {},
   "outputs": [],
   "source": [
    "#dif b/w def and lambda"
   ]
  },
  {
   "cell_type": "code",
   "execution_count": 5,
   "metadata": {},
   "outputs": [
    {
     "data": {
      "text/plain": [
       "30"
      ]
     },
     "execution_count": 5,
     "metadata": {},
     "output_type": "execute_result"
    }
   ],
   "source": [
    "#lambda\n",
    "add = lambda a,b: a+b\n",
    "add(10,20)"
   ]
  },
  {
   "cell_type": "code",
   "execution_count": 6,
   "metadata": {},
   "outputs": [
    {
     "data": {
      "text/plain": [
       "30"
      ]
     },
     "execution_count": 6,
     "metadata": {},
     "output_type": "execute_result"
    }
   ],
   "source": [
    "#def\n",
    "def add(a,b):\n",
    "    return(a+b)\n",
    "add(10,20)"
   ]
  },
  {
   "cell_type": "code",
   "execution_count": 7,
   "metadata": {},
   "outputs": [
    {
     "data": {
      "text/plain": [
       "[30, -10, 200, 0.5, 0, 10, 100000000000000000000]"
      ]
     },
     "execution_count": 7,
     "metadata": {},
     "output_type": "execute_result"
    }
   ],
   "source": [
    "Cal = lambda a,b:[a+b,a-b,a*b,a/b,a//b,a%b,a**b]\n",
    "Cal(10,20)"
   ]
  },
  {
   "cell_type": "code",
   "execution_count": 9,
   "metadata": {},
   "outputs": [
    {
     "name": "stdout",
     "output_type": "stream",
     "text": [
      "[30, -10, 200, 0.5, 0, 10, 100000000000000000000]\n"
     ]
    }
   ],
   "source": [
    "def cal(a,b):\n",
    "    print([a+b,a-b,a*b,a/b,a//b,a%b,a**b])\n",
    "cal(10,20)"
   ]
  },
  {
   "cell_type": "code",
   "execution_count": 10,
   "metadata": {},
   "outputs": [
    {
     "data": {
      "text/plain": [
       "[30, -10, 200, 0.5, 0, 10, 100000000000000000000]"
      ]
     },
     "execution_count": 10,
     "metadata": {},
     "output_type": "execute_result"
    }
   ],
   "source": [
    "def cal(a,b):\n",
    "    return([a+b,a-b,a*b,a/b,a//b,a%b,a**b])\n",
    "cal(10,20)"
   ]
  },
  {
   "cell_type": "code",
   "execution_count": null,
   "metadata": {},
   "outputs": [],
   "source": []
  }
 ],
 "metadata": {
  "kernelspec": {
   "display_name": "Python 3",
   "language": "python",
   "name": "python3"
  },
  "language_info": {
   "codemirror_mode": {
    "name": "ipython",
    "version": 3
   },
   "file_extension": ".py",
   "mimetype": "text/x-python",
   "name": "python",
   "nbconvert_exporter": "python",
   "pygments_lexer": "ipython3",
   "version": "3.7.4"
  }
 },
 "nbformat": 4,
 "nbformat_minor": 4
}
