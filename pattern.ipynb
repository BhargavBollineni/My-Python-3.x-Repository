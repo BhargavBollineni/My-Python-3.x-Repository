class Book(object):
    def __init__(self,title,author,pages):
        print("a book is created")
        self.title = title
        self.author = author
        self.pages =  pages
        
    def __str__(self):
        return "Title:%s , Author:%s, Pages:%s" %(self.title, self.author,  self.pages)
    
    def __len__(self):
        return self.pages
    
    def __del__(self):
        print("a book is destroyed")
        


book=Book('python rocks',"rose portilla",159)

#special meathods
print(book)
print(len(book))
del book