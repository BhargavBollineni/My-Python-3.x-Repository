{
 "cells": [
  {
   "cell_type": "code",
   "execution_count": 4,
   "metadata": {},
   "outputs": [
    {
     "name": "stdout",
     "output_type": "stream",
     "text": [
      "* * * * * \n",
      "*       * \n",
      "* * * * * \n",
      "*       * \n",
      "* * * * * \n"
     ]
    }
   ],
   "source": [
    "#B letter\n",
    "for row in range(5):\n",
    "    for col in range(5):\n",
    "        if col==0 or row==0 or col==4 or row==2 or row==4:\n",
    "            print('*',end=' ')\n",
    "        else:\n",
    "            print(' ',end=' ')\n",
    "    print()"
   ]
  },
  {
   "cell_type": "code",
   "execution_count": 5,
   "metadata": {},
   "outputs": [
    {
     "name": "stdout",
     "output_type": "stream",
     "text": [
      "*     * \n",
      "*     * \n",
      "* * * * \n",
      "*     * \n",
      "*     * \n"
     ]
    }
   ],
   "source": [
    "#H letter\n",
    "for row in range(5):\n",
    "    for col in range(4):\n",
    "        if col==0 or row==2 or col==3:\n",
    "            print('*',end=' ')\n",
    "        else:\n",
    "            print(' ',end=' ')\n",
    "    print()"
   ]
  },
  {
   "cell_type": "code",
   "execution_count": 6,
   "metadata": {},
   "outputs": [
    {
     "name": "stdout",
     "output_type": "stream",
     "text": [
      "  *       \n",
      "*   *     \n",
      "* * *     \n",
      "*   *     \n",
      "*   *     \n"
     ]
    }
   ],
   "source": [
    "#A letter\n",
    "for row in range(5):\n",
    "    for col in range(5):\n",
    "        if (row==0 and col==1)or(row==1 and col==0)or(row==1 and col==2)or(row==2 and col==0)or(row==2 and col==1)or(row==2 and col==2)or(row==3 and col==0)or(row==3 and col==2)or(row==4 and col==0)or(row==4 and col==2):\n",
    "            print('*',end=' ')\n",
    "        else:\n",
    "            print(' ',end=' ')\n",
    "    print()"
   ]
  },
  {
   "cell_type": "code",
   "execution_count": 8,
   "metadata": {},
   "outputs": [
    {
     "name": "stdout",
     "output_type": "stream",
     "text": [
      "* * * * \n",
      "*     * \n",
      "* * * * \n",
      "*     * \n",
      "*     * \n"
     ]
    }
   ],
   "source": [
    "#R letter\n",
    "for row in range(5):\n",
    "    for col in range(4):\n",
    "        if col==0 or row==2 or col==3 or row==0:\n",
    "            print('*',end=' ')\n",
    "        else:\n",
    "            print(' ',end=' ')\n",
    "    print()"
   ]
  },
  {
   "cell_type": "code",
   "execution_count": 14,
   "metadata": {},
   "outputs": [
    {
     "name": "stdout",
     "output_type": "stream",
     "text": [
      "* * * * \n",
      "*       \n",
      "* * * * \n",
      "*     * \n",
      "* * * * \n"
     ]
    }
   ],
   "source": [
    "#G letter\n",
    "for row in range(5):\n",
    "    for col in range(4):\n",
    "        if row==0 or col==0 or row==4 or row==2 or row==3 and col==3:\n",
    "            print('*',end=' ')\n",
    "        else:\n",
    "            print(' ',end=' ')\n",
    "    print()"
   ]
  },
  {
   "cell_type": "code",
   "execution_count": 15,
   "metadata": {},
   "outputs": [
    {
     "name": "stdout",
     "output_type": "stream",
     "text": [
      "  *       \n",
      "*   *     \n",
      "* * *     \n",
      "*   *     \n",
      "*   *     \n"
     ]
    }
   ],
   "source": [
    "#A letter\n",
    "for row in range(5):\n",
    "    for col in range(5):\n",
    "        if (row==0 and col==1)or(row==1 and col==0)or(row==1 and col==2)or(row==2 and col==0)or(row==2 and col==1)or(row==2 and col==2)or(row==3 and col==0)or(row==3 and col==2)or(row==4 and col==0)or(row==4 and col==2):\n",
    "            print('*',end=' ')\n",
    "        else:\n",
    "            print(' ',end=' ')\n",
    "    print()"
   ]
  },
  {
   "cell_type": "code",
   "execution_count": 34,
   "metadata": {},
   "outputs": [
    {
     "name": "stdout",
     "output_type": "stream",
     "text": [
      "*       * \n",
      "*       * \n",
      "  *   *   \n",
      "    *     \n",
      "          \n"
     ]
    }
   ],
   "source": [
    "#V letter\n",
    "for row in range(5):\n",
    "    for col in range(5):\n",
    "        if (row==0 and col==0) or (row==0 and col==4) or (row==1 and col==0)or (row==1 and col==4)or(row==2 and col==1)or (row==2 and col==3)or (row==3 and col==2): \n",
    "            print('*',end=' ')\n",
    "        else:\n",
    "            print(' ',end=' ')\n",
    "    print()"
   ]
  },
  {
   "cell_type": "code",
   "execution_count": null,
   "metadata": {},
   "outputs": [],
   "source": []
  },
  {
   "cell_type": "code",
   "execution_count": null,
   "metadata": {},
   "outputs": [],
   "source": []
  },
  {
   "cell_type": "code",
   "execution_count": 51,
   "metadata": {},
   "outputs": [
    {
     "name": "stdout",
     "output_type": "stream",
     "text": [
      "* * * * * \n",
      "*       * \n",
      "* * * * * \n",
      "*       * \n",
      "* * * * * \n",
      "*     * \n",
      "*     * \n",
      "* * * * \n",
      "*     * \n",
      "*     * \n",
      "  *       \n",
      "*   *     \n",
      "* * *     \n",
      "*   *     \n",
      "*   *     \n",
      "* * * * \n",
      "*     * \n",
      "* * * * \n",
      "*     * \n",
      "*     * \n"
     ]
    }
   ],
   "source": [
    "#B\n",
    "for row in range(5):\n",
    "        for col in range(5):\n",
    "            if col==0 or row==0 or col==4 or row==2 or row==4:\n",
    "                print('*',end=' ')\n",
    "            else:\n",
    "                print(' ',end=' ') \n",
    "        print()\n",
    "        \n",
    "        \n",
    "#H\n",
    "for row in range(5):\n",
    "                for col in range(4):\n",
    "                    if col==0 or row==2 or col==3:\n",
    "                        print('*',end=' ')\n",
    "                    else:\n",
    "                        print(' ',end=' ')\n",
    "                print()\n",
    "                \n",
    "#A letter\n",
    "for row in range(5):\n",
    "    for col in range(5):\n",
    "        if (row==0 and col==1)or(row==1 and col==0)or(row==1 and col==2)or(row==2 and col==0)or(row==2 and col==1)or(row==2 and col==2)or(row==3 and col==0)or(row==3 and col==2)or(row==4 and col==0)or(row==4 and col==2):\n",
    "            print('*',end=' ')\n",
    "        else:\n",
    "            print(' ',end=' ')\n",
    "    print()\n",
    "#R letter\n",
    "for row in range(5):\n",
    "    for col in range(4):\n",
    "        if col==0 or row==2 or col==3 or row==0:\n",
    "            print('*',end=' ')\n",
    "        else:\n",
    "            print(' ',end=' ')\n",
    "    print()\n",
    "    \n",
    "#G letter\n",
    "for row in range(5):\n",
    "    for col in range(4):\n",
    "        if row==0 or col==0 or row==4 or row==2 or row==3 and col==3:\n",
    "            print('*',end=' ')\n",
    "        else:\n",
    "            print(' ',end=' ')\n",
    "    print()\n",
    "\n",
    "    \n",
    "    "
   ]
  },
  {
   "cell_type": "code",
   "execution_count": null,
   "metadata": {},
   "outputs": [],
   "source": []
  }
 ],
 "metadata": {
  "kernelspec": {
   "display_name": "Python 3",
   "language": "python",
   "name": "python3"
  },
  "language_info": {
   "codemirror_mode": {
    "name": "ipython",
    "version": 3
   },
   "file_extension": ".py",
   "mimetype": "text/x-python",
   "name": "python",
   "nbconvert_exporter": "python",
   "pygments_lexer": "ipython3",
   "version": "3.7.4"
  }
 },
 "nbformat": 4,
 "nbformat_minor": 4
}
